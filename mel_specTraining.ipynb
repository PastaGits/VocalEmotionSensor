{
 "cells": [
  {
   "cell_type": "code",
   "execution_count": 7,
   "id": "60d3f7f5-7af4-4e13-8f85-a524eda1256f",
   "metadata": {
    "tags": []
   },
   "outputs": [],
   "source": [
    "import h5py\n",
    "import librosa\n",
    "import numpy as np\n",
    "\n",
    "import keras\n",
    "import numpy as np\n",
    "import matplotlib.pyplot as plt\n",
    "import tensorflow as tf\n",
    "from tensorflow.keras.preprocessing import sequence\n",
    "from tensorflow.keras.models import Sequential\n",
    "from tensorflow.keras.layers import Dense, Embedding\n",
    "from tensorflow.keras.utils import to_categorical\n",
    "from tensorflow.keras.layers import Input, Flatten, Dropout, Activation\n",
    "from tensorflow.keras.layers import Conv2D, MaxPooling2D\n",
    "from tensorflow.keras.models import Model\n",
    "from tensorflow.keras.callbacks import ModelCheckpoint\n",
    "from tensorflow.keras import optimizers\n",
    "\n",
    "file = h5py.File('dataset.h5', 'r')\n",
    "#label_dict = {\"['n']\": 0, \"['c']\": 1, \"['h']\": 2, \"['s']\": 3,\n",
    " #             \"['a']\": 4, \"['f']\": 5, \"['d']\": 6, \"['su']\": 7}\n",
    "#label_dict = {\"[b'n']\": 0, \"[b'c']\": 1, \"[b'h']\": 2, \"[b'sa']\": 3,\n",
    "              #\"[b'a']\": 4, \"[b'f']\": 5, \"[b'd']\": 6, \"[b'su']\": 7}"
   ]
  },
  {
   "cell_type": "code",
   "execution_count": 10,
   "id": "6564c708-0940-482e-add1-62b28542452e",
   "metadata": {},
   "outputs": [
    {
     "name": "stdout",
     "output_type": "stream",
     "text": [
      "(array([  0,   1,   2,   3,   4,   5,   6,   7,   8,   9,  10,  11,  12,\n",
      "        13,  14,  15,  16,  17,  18,  19,  20,  21,  22,  23,  24,  25,\n",
      "        26,  27,  28,  29,  30,  31,  32,  33,  34,  35,  36,  37,  38,\n",
      "        39,  40,  41,  42,  43,  44,  45,  46,  47,  48,  49,  50,  51,\n",
      "        52,  53,  54,  55,  56,  57,  58,  59,  60,  61,  62,  63,  64,\n",
      "        65,  66,  67,  68,  69,  70,  71,  72,  73,  74,  75,  76,  77,\n",
      "        78,  79,  80,  81,  82,  83,  84,  85,  86,  87,  88,  89,  90,\n",
      "        91,  92,  93,  94,  95,  96,  97,  98,  99, 100, 101, 102, 103,\n",
      "       104, 105, 106, 107, 108, 109, 110, 111, 112, 113, 114, 115, 116,\n",
      "       117, 118, 119, 120, 121, 122, 123, 124, 125, 126, 127, 128, 129,\n",
      "       130, 131, 132, 133, 134, 135, 136, 137, 138, 139, 140, 141, 142,\n",
      "       143, 144, 145, 146, 147, 148, 149, 150, 151, 152, 153, 154, 155,\n",
      "       156, 157, 158, 159, 160, 161, 162, 163, 164, 165, 166, 167, 168,\n",
      "       169, 170, 171, 172, 173, 174, 175, 176, 177, 178, 179, 180, 181,\n",
      "       182, 183, 184, 185, 186, 187, 188, 189, 190, 191, 192, 193, 194,\n",
      "       195, 196, 197, 198, 199, 200, 201, 202, 203, 204, 205, 206, 207,\n",
      "       208, 209, 210, 211, 212, 213, 214, 215, 216, 217, 218, 219, 220,\n",
      "       221, 222, 223, 224, 225, 226, 227, 228, 229, 230, 231, 232, 233,\n",
      "       234, 235, 236, 237, 238, 239, 240, 241, 242, 243, 244, 245, 246,\n",
      "       247, 248, 249, 250, 251, 252, 253, 254, 255, 256, 257, 258, 259,\n",
      "       260, 261, 262, 263, 264, 265, 266, 267, 268, 269, 270, 271, 272,\n",
      "       273, 274, 275, 276, 277, 278, 279, 280, 281, 282, 283, 284, 285,\n",
      "       286, 287, 288, 289, 290, 291, 292, 293, 294, 295, 296, 297, 298,\n",
      "       299, 300, 301, 302, 303, 304, 305, 306, 307, 308, 309, 310, 311,\n",
      "       312, 313, 314, 315, 316, 317, 318, 319, 320, 321, 322, 323, 324,\n",
      "       325, 326, 327, 328, 329, 330, 331, 332, 333, 334, 335, 336, 337,\n",
      "       338, 339, 340, 341, 342, 343, 344, 345, 346, 347, 348, 349, 350,\n",
      "       351, 352, 353, 354, 355, 356, 357, 358, 359, 360, 361, 362, 363,\n",
      "       364, 365, 366, 367, 368, 369, 370, 371, 372, 373, 374, 375, 376,\n",
      "       377, 378, 379, 380, 381, 382, 383, 384, 385, 386, 387, 388, 389,\n",
      "       390, 391, 392, 393, 394, 395, 396, 397, 398, 399, 400, 401, 402,\n",
      "       403, 404, 405, 406, 407, 408, 409, 410, 411, 412, 413, 414, 415,\n",
      "       416, 417, 418, 419, 420, 421, 422, 423, 424, 425, 426, 427, 428,\n",
      "       429, 430, 431, 432, 433, 434, 435, 436, 437, 438, 439, 440, 441,\n",
      "       442, 443, 444, 445, 446, 447, 448, 449, 450, 451, 452, 453, 454,\n",
      "       455, 456, 457, 458, 459, 460, 461, 462, 463, 464, 465, 466, 467,\n",
      "       468, 469, 470, 471, 472, 473, 474, 475, 476, 477, 478, 479, 480,\n",
      "       481, 482, 483, 484, 485, 486, 487, 488, 489, 490, 491, 492, 493,\n",
      "       494, 495, 496, 497, 498, 499, 500, 501, 502, 503, 504, 505, 506,\n",
      "       507, 508, 509, 510, 511, 512, 513, 514, 515, 516, 517, 518, 519,\n",
      "       520, 521, 522, 523, 524, 525, 526, 527, 528, 529, 530, 531, 532,\n",
      "       533, 534, 535, 536, 537, 538, 539, 540, 541, 542, 543, 544, 545,\n",
      "       546, 547, 548, 549, 550, 551, 552, 553, 554, 555, 556, 557, 558,\n",
      "       559, 560, 561, 562, 563, 564, 565, 566, 567, 568, 569, 570, 571,\n",
      "       572, 573, 574, 575, 576, 577, 578, 579, 580, 581, 582, 583, 584,\n",
      "       585, 586, 587, 588, 589, 590, 591, 592, 593, 594, 595, 596, 597,\n",
      "       598, 599, 600, 601, 602, 603, 604, 605, 606, 607, 608, 609, 610,\n",
      "       611, 612, 613, 614, 615, 616, 617, 618, 619, 620, 621, 622, 623,\n",
      "       624, 625, 626, 627, 628, 629, 630, 631, 632, 633, 634, 635, 636,\n",
      "       637, 638, 639, 640, 641, 642, 643, 644, 645, 646, 647, 648, 649,\n",
      "       650, 651, 652, 653, 654, 655, 656, 657, 658, 659, 660, 661, 662,\n",
      "       663, 664, 665, 666, 667, 668, 669, 670, 671, 672, 673, 674, 675,\n",
      "       676, 677, 678, 679, 680, 681, 682, 683, 684, 685, 686, 687, 688,\n",
      "       689, 690, 691, 692, 693, 694, 695, 696, 697, 698, 699, 700, 701,\n",
      "       702, 703, 704, 705, 706, 707, 708, 709, 710, 711, 712, 713, 714,\n",
      "       715, 716, 717, 718, 719, 720, 721, 722, 723, 724, 725, 726, 727,\n",
      "       728, 729, 730, 731, 732, 733, 734, 735, 736, 737, 738, 739, 740,\n",
      "       741, 742, 743, 744, 745, 746, 747, 748, 749, 750, 751, 752, 753,\n",
      "       754, 755, 756, 757, 758, 759, 760, 761, 762, 763, 764, 765, 766,\n",
      "       767, 768, 769, 770, 771, 772, 773, 774, 775, 776, 777, 778, 779,\n",
      "       780, 781, 782, 783, 784, 785, 786, 787, 788, 789, 790, 791, 792,\n",
      "       793, 794, 795, 796, 797, 798, 799, 800, 801, 802, 803, 804, 805,\n",
      "       806, 807, 808, 809, 810, 811, 812, 813, 814, 815, 816, 817, 818,\n",
      "       819, 820, 821, 822, 823, 824, 825, 826, 827, 828, 829, 830, 831,\n",
      "       832, 833, 834, 835, 836, 837, 838, 839, 840, 841, 842, 843, 844,\n",
      "       845, 846, 847, 848, 849, 850, 851, 852, 853, 854, 855, 856, 857,\n",
      "       858, 859, 860, 861, 862, 863, 864, 865, 866, 867, 868, 869, 870,\n",
      "       871, 872, 873, 874, 875, 876, 877, 878, 879, 880, 881, 882, 883,\n",
      "       884, 885, 886, 887, 888, 889, 890, 891, 892, 893, 894, 895, 896,\n",
      "       897, 898, 899, 900, 901, 902, 903, 904, 905, 906, 907, 908, 909,\n",
      "       910, 911, 912, 913, 914, 915, 916, 917, 918, 919, 920, 921, 922,\n",
      "       923, 924, 925, 926, 927, 928, 929, 930, 931, 932, 933, 934, 935,\n",
      "       936, 937, 938, 939, 940, 941, 942, 943, 944, 945, 946, 947, 948,\n",
      "       949, 950, 951, 952, 953, 954, 955, 956, 957, 958, 959, 960, 961,\n",
      "       962, 963, 964, 965, 966, 967, 968, 969, 970, 971, 972, 973, 974,\n",
      "       975, 976, 977, 978, 979, 980, 981, 982, 983, 984, 985, 986, 987,\n",
      "       988, 989, 990, 991, 992, 993, 994, 995, 996, 997, 998, 999],\n",
      "      dtype=int64), array([0, 0, 0, 0, 0, 0, 0, 0, 0, 0, 0, 0, 0, 0, 0, 0, 0, 0, 0, 0, 0, 0,\n",
      "       0, 0, 0, 0, 0, 0, 0, 0, 0, 0, 0, 0, 0, 0, 0, 0, 0, 0, 0, 0, 0, 0,\n",
      "       0, 0, 0, 0, 0, 0, 0, 0, 0, 0, 0, 0, 0, 0, 0, 0, 0, 0, 0, 0, 0, 0,\n",
      "       0, 0, 0, 0, 0, 0, 0, 0, 0, 0, 0, 0, 0, 0, 0, 0, 0, 0, 0, 0, 0, 0,\n",
      "       0, 0, 0, 0, 0, 0, 0, 0, 0, 0, 0, 0, 0, 0, 0, 0, 0, 0, 0, 0, 0, 0,\n",
      "       0, 0, 0, 0, 0, 0, 0, 0, 0, 0, 0, 0, 0, 0, 0, 0, 0, 0, 0, 0, 0, 0,\n",
      "       0, 0, 0, 0, 0, 0, 0, 0, 0, 0, 0, 0, 0, 0, 0, 0, 0, 0, 0, 0, 0, 0,\n",
      "       0, 0, 0, 0, 0, 0, 0, 0, 0, 0, 0, 0, 0, 0, 0, 0, 0, 0, 0, 0, 0, 0,\n",
      "       0, 0, 0, 0, 0, 0, 0, 0, 0, 0, 0, 0, 0, 0, 0, 0, 0, 0, 0, 0, 0, 0,\n",
      "       0, 0, 0, 0, 0, 0, 0, 0, 0, 0, 0, 0, 0, 0, 0, 0, 0, 0, 0, 0, 0, 0,\n",
      "       0, 0, 0, 0, 0, 0, 0, 0, 0, 0, 0, 0, 0, 0, 0, 0, 0, 0, 0, 0, 0, 0,\n",
      "       0, 0, 0, 0, 0, 0, 0, 0, 0, 0, 0, 0, 0, 0, 0, 0, 0, 0, 0, 0, 0, 0,\n",
      "       0, 0, 0, 0, 0, 0, 0, 0, 0, 0, 0, 0, 0, 0, 0, 0, 0, 0, 0, 0, 0, 0,\n",
      "       0, 0, 0, 0, 0, 0, 0, 0, 0, 0, 0, 0, 0, 0, 0, 0, 0, 0, 0, 0, 0, 0,\n",
      "       0, 0, 0, 0, 0, 0, 0, 0, 0, 0, 0, 0, 0, 0, 0, 0, 0, 0, 0, 0, 0, 0,\n",
      "       0, 0, 0, 0, 0, 0, 0, 0, 0, 0, 0, 0, 0, 0, 0, 0, 0, 0, 0, 0, 0, 0,\n",
      "       0, 0, 0, 0, 0, 0, 0, 0, 0, 0, 0, 0, 0, 0, 0, 0, 0, 0, 0, 0, 0, 0,\n",
      "       0, 0, 0, 0, 0, 0, 0, 0, 0, 0, 0, 0, 0, 0, 0, 0, 0, 0, 0, 0, 0, 0,\n",
      "       0, 0, 0, 0, 0, 0, 0, 0, 0, 0, 0, 0, 0, 0, 0, 0, 0, 0, 0, 0, 0, 0,\n",
      "       0, 0, 0, 0, 0, 0, 0, 0, 0, 0, 0, 0, 0, 0, 0, 0, 0, 0, 0, 0, 0, 0,\n",
      "       0, 0, 0, 0, 0, 0, 0, 0, 0, 0, 0, 0, 0, 0, 0, 0, 0, 0, 0, 0, 0, 0,\n",
      "       0, 0, 0, 0, 0, 0, 0, 0, 0, 0, 0, 0, 0, 0, 0, 0, 0, 0, 0, 0, 0, 0,\n",
      "       0, 0, 0, 0, 0, 0, 0, 0, 0, 0, 0, 0, 0, 0, 0, 0, 0, 0, 0, 0, 0, 0,\n",
      "       0, 0, 0, 0, 0, 0, 0, 0, 0, 0, 0, 0, 0, 0, 0, 0, 0, 0, 0, 0, 0, 0,\n",
      "       0, 0, 0, 0, 0, 0, 0, 0, 0, 0, 0, 0, 0, 0, 0, 0, 0, 0, 0, 0, 0, 0,\n",
      "       0, 0, 0, 0, 0, 0, 0, 0, 0, 0, 0, 0, 0, 0, 0, 0, 0, 0, 0, 0, 0, 0,\n",
      "       0, 0, 0, 0, 0, 0, 0, 0, 0, 0, 0, 0, 0, 0, 0, 0, 0, 0, 0, 0, 0, 0,\n",
      "       0, 0, 0, 0, 0, 0, 0, 0, 0, 0, 0, 0, 0, 0, 0, 0, 0, 0, 0, 0, 0, 0,\n",
      "       0, 0, 0, 0, 0, 0, 0, 0, 0, 0, 0, 0, 0, 0, 0, 0, 0, 0, 0, 0, 0, 0,\n",
      "       0, 0, 0, 0, 0, 0, 0, 0, 0, 0, 0, 0, 0, 0, 0, 0, 0, 0, 0, 0, 0, 0,\n",
      "       0, 0, 0, 0, 0, 0, 0, 0, 0, 0, 0, 0, 0, 0, 0, 0, 0, 0, 0, 0, 0, 0,\n",
      "       0, 0, 0, 0, 0, 0, 0, 0, 0, 0, 0, 0, 0, 0, 0, 0, 0, 0, 0, 0, 0, 0,\n",
      "       0, 0, 0, 0, 0, 0, 0, 0, 0, 0, 0, 0, 0, 0, 0, 0, 0, 0, 0, 0, 0, 0,\n",
      "       0, 0, 0, 0, 0, 0, 0, 0, 0, 0, 0, 0, 0, 0, 0, 0, 0, 0, 0, 0, 0, 0,\n",
      "       0, 0, 0, 0, 0, 0, 0, 0, 0, 0, 0, 0, 0, 0, 0, 0, 0, 0, 0, 0, 0, 0,\n",
      "       0, 0, 0, 0, 0, 0, 0, 0, 0, 0, 0, 0, 0, 0, 0, 0, 0, 0, 0, 0, 0, 0,\n",
      "       0, 0, 0, 0, 0, 0, 0, 0, 0, 0, 0, 0, 0, 0, 0, 0, 0, 0, 0, 0, 0, 0,\n",
      "       0, 0, 0, 0, 0, 0, 0, 0, 0, 0, 0, 0, 0, 0, 0, 0, 0, 0, 0, 0, 0, 0,\n",
      "       0, 0, 0, 0, 0, 0, 0, 0, 0, 0, 0, 0, 0, 0, 0, 0, 0, 0, 0, 0, 0, 0,\n",
      "       0, 0, 0, 0, 0, 0, 0, 0, 0, 0, 0, 0, 0, 0, 0, 0, 0, 0, 0, 0, 0, 0,\n",
      "       0, 0, 0, 0, 0, 0, 0, 0, 0, 0, 0, 0, 0, 0, 0, 0, 0, 0, 0, 0, 0, 0,\n",
      "       0, 0, 0, 0, 0, 0, 0, 0, 0, 0, 0, 0, 0, 0, 0, 0, 0, 0, 0, 0, 0, 0,\n",
      "       0, 0, 0, 0, 0, 0, 0, 0, 0, 0, 0, 0, 0, 0, 0, 0, 0, 0, 0, 0, 0, 0,\n",
      "       0, 0, 0, 0, 0, 0, 0, 0, 0, 0, 0, 0, 0, 0, 0, 0, 0, 0, 0, 0, 0, 0,\n",
      "       0, 0, 0, 0, 0, 0, 0, 0, 0, 0, 0, 0, 0, 0, 0, 0, 0, 0, 0, 0, 0, 0,\n",
      "       0, 0, 0, 0, 0, 0, 0, 0, 0, 0], dtype=int64))\n"
     ]
    },
    {
     "ename": "TypeError",
     "evalue": "Only one indexing vector or array is currently allowed for fancy indexing",
     "output_type": "error",
     "traceback": [
      "\u001b[1;31m---------------------------------------------------------------------------\u001b[0m",
      "\u001b[1;31mTypeError\u001b[0m                                 Traceback (most recent call last)",
      "Input \u001b[1;32mIn [10]\u001b[0m, in \u001b[0;36m<cell line: 5>\u001b[1;34m()\u001b[0m\n\u001b[0;32m      3\u001b[0m relevant_indexes \u001b[38;5;241m=\u001b[39m  np\u001b[38;5;241m.\u001b[39mwhere(np\u001b[38;5;241m.\u001b[39mlogical_or(labels \u001b[38;5;241m!=\u001b[39m \u001b[38;5;241m6\u001b[39m, labels \u001b[38;5;241m!=\u001b[39m \u001b[38;5;241m7\u001b[39m))\n\u001b[0;32m      4\u001b[0m \u001b[38;5;28mprint\u001b[39m(relevant_indexes)\n\u001b[1;32m----> 5\u001b[0m y \u001b[38;5;241m=\u001b[39m \u001b[43mfile\u001b[49m\u001b[43m[\u001b[49m\u001b[38;5;124;43m'\u001b[39;49m\u001b[38;5;124;43mlabel\u001b[39;49m\u001b[38;5;124;43m'\u001b[39;49m\u001b[43m]\u001b[49m\u001b[43m[\u001b[49m\u001b[43mrelevant_indexes\u001b[49m\u001b[43m]\u001b[49m\n\u001b[0;32m      6\u001b[0m X \u001b[38;5;241m=\u001b[39m file[\u001b[38;5;124m'\u001b[39m\u001b[38;5;124mmel_spec\u001b[39m\u001b[38;5;124m'\u001b[39m][relevant_indexes]\n\u001b[0;32m      8\u001b[0m \u001b[38;5;66;03m#X_test, y_test = file['mfcc'][], file['label'][]\u001b[39;00m\n",
      "File \u001b[1;32mh5py\\_objects.pyx:54\u001b[0m, in \u001b[0;36mh5py._objects.with_phil.wrapper\u001b[1;34m()\u001b[0m\n",
      "File \u001b[1;32mh5py\\_objects.pyx:55\u001b[0m, in \u001b[0;36mh5py._objects.with_phil.wrapper\u001b[1;34m()\u001b[0m\n",
      "File \u001b[1;32m~\\AppData\\Local\\Programs\\Python\\Python39\\lib\\site-packages\\h5py\\_hl\\dataset.py:783\u001b[0m, in \u001b[0;36mDataset.__getitem__\u001b[1;34m(self, args, new_dtype)\u001b[0m\n\u001b[0;32m    778\u001b[0m     \u001b[38;5;28;01mreturn\u001b[39;00m arr\n\u001b[0;32m    780\u001b[0m \u001b[38;5;66;03m# === Everything else ===================\u001b[39;00m\n\u001b[0;32m    781\u001b[0m \n\u001b[0;32m    782\u001b[0m \u001b[38;5;66;03m# Perform the dataspace selection.\u001b[39;00m\n\u001b[1;32m--> 783\u001b[0m selection \u001b[38;5;241m=\u001b[39m \u001b[43msel\u001b[49m\u001b[38;5;241;43m.\u001b[39;49m\u001b[43mselect\u001b[49m\u001b[43m(\u001b[49m\u001b[38;5;28;43mself\u001b[39;49m\u001b[38;5;241;43m.\u001b[39;49m\u001b[43mshape\u001b[49m\u001b[43m,\u001b[49m\u001b[43m \u001b[49m\u001b[43margs\u001b[49m\u001b[43m,\u001b[49m\u001b[43m \u001b[49m\u001b[43mdataset\u001b[49m\u001b[38;5;241;43m=\u001b[39;49m\u001b[38;5;28;43mself\u001b[39;49m\u001b[43m)\u001b[49m\n\u001b[0;32m    785\u001b[0m \u001b[38;5;28;01mif\u001b[39;00m selection\u001b[38;5;241m.\u001b[39mnselect \u001b[38;5;241m==\u001b[39m \u001b[38;5;241m0\u001b[39m:\n\u001b[0;32m    786\u001b[0m     \u001b[38;5;28;01mreturn\u001b[39;00m numpy\u001b[38;5;241m.\u001b[39mndarray(selection\u001b[38;5;241m.\u001b[39marray_shape, dtype\u001b[38;5;241m=\u001b[39mnew_dtype)\n",
      "File \u001b[1;32m~\\AppData\\Local\\Programs\\Python\\Python39\\lib\\site-packages\\h5py\\_hl\\selections.py:82\u001b[0m, in \u001b[0;36mselect\u001b[1;34m(shape, args, dataset)\u001b[0m\n\u001b[0;32m     79\u001b[0m     space \u001b[38;5;241m=\u001b[39m h5s\u001b[38;5;241m.\u001b[39mcreate_simple(shape)\n\u001b[0;32m     80\u001b[0m     selector \u001b[38;5;241m=\u001b[39m _selector\u001b[38;5;241m.\u001b[39mSelector(space)\n\u001b[1;32m---> 82\u001b[0m \u001b[38;5;28;01mreturn\u001b[39;00m \u001b[43mselector\u001b[49m\u001b[38;5;241;43m.\u001b[39;49m\u001b[43mmake_selection\u001b[49m\u001b[43m(\u001b[49m\u001b[43margs\u001b[49m\u001b[43m)\u001b[49m\n",
      "File \u001b[1;32mh5py\\_selector.pyx:272\u001b[0m, in \u001b[0;36mh5py._selector.Selector.make_selection\u001b[1;34m()\u001b[0m\n",
      "File \u001b[1;32mh5py\\_selector.pyx:185\u001b[0m, in \u001b[0;36mh5py._selector.Selector.apply_args\u001b[1;34m()\u001b[0m\n",
      "\u001b[1;31mTypeError\u001b[0m: Only one indexing vector or array is currently allowed for fancy indexing"
     ]
    }
   ],
   "source": [
    "#X, y = file['mel_spec'][:1000], file['label'][:1000]\n",
    "labels = file['label'][:1000]\n",
    "relevant_indexes =  np.where(np.logical_or(labels != 6, labels != 7))\n",
    "print(relevant_indexes)\n",
    "y = file['label'][relevant_indexes]\n",
    "X = file['mel_spec'][relevant_indexes]\n",
    "\n",
    "#X_test, y_test = file['mfcc'][], file['label'][]\n",
    "file['stft'].shape"
   ]
  },
  {
   "cell_type": "code",
   "execution_count": null,
   "id": "08c7f5a6-f25a-45d3-affa-69e3a4601c3e",
   "metadata": {},
   "outputs": [],
   "source": [
    "labels = file['label'][:36406]\n",
    "relevant_indexes =  np.where(np.logical_or(labels != 6, labels != 7))\n",
    "y = file['label'][relevant_indexes]\n",
    "X = file['mel_spec'][relevant_indexes]"
   ]
  },
  {
   "cell_type": "code",
   "execution_count": 44,
   "id": "17310ce1-3c6c-4593-ae48-8cb6bf6ea35f",
   "metadata": {},
   "outputs": [
    {
     "data": {
      "text/plain": [
       "(30000, 1)"
      ]
     },
     "execution_count": 44,
     "metadata": {},
     "output_type": "execute_result"
    }
   ],
   "source": [
    "y.shape"
   ]
  },
  {
   "cell_type": "code",
   "execution_count": 46,
   "id": "6b4caedd-91d9-42f3-9e00-97f1442e9276",
   "metadata": {},
   "outputs": [],
   "source": [
    "from sklearn.model_selection import train_test_split\n",
    "\n",
    "X_train, X_test, y_train, y_test = train_test_split(X_deltas, y, test_size=0.33, random_state=42)"
   ]
  },
  {
   "cell_type": "code",
   "execution_count": 47,
   "id": "01201eaf-9923-4326-a475-b21eb264de24",
   "metadata": {},
   "outputs": [
    {
     "data": {
      "text/plain": [
       "array([5], dtype=int64)"
      ]
     },
     "execution_count": 47,
     "metadata": {},
     "output_type": "execute_result"
    },
    {
     "data": {
      "image/png": "[encoded data removed]",
      "text/plain": [
       "<Figure size 432x288 with 1 Axes>"
      ]
     },
     "metadata": {
      "needs_background": "light"
     },
     "output_type": "display_data"
    }
   ],
   "source": [
    "plt.imshow(X_train[6])\n",
    "y_train[6]"
   ]
  },
  {
   "cell_type": "code",
   "execution_count": 48,
   "id": "047ded05-455b-4685-99c5-383ba3e82b79",
   "metadata": {},
   "outputs": [],
   "source": [
    "\n",
    "model = Sequential()\n",
    "\n",
    "model.add(tf.keras.layers.Reshape((36, 42, 1), input_shape=(36,42)))\n",
    "model.add(Conv2D(128, (6,6),padding='same'))\n",
    "model.add(Activation('relu'))\n",
    "model.add(Dropout(0.1))\n",
    "model.add(MaxPooling2D(2,2))\n",
    "\n",
    "model.add(Conv2D(128, (3,3),padding='same',))\n",
    "model.add(Activation('relu'))\n",
    "model.add(MaxPooling2D(2,2))\n",
    "\n",
    "model.add(Activation('relu'))\n",
    "model.add(Dropout(0.1))\n",
    "\n",
    "model.add(Flatten())\n",
    "model.add(Dense(2048, activation='relu'))\n",
    "model.add(Dropout(0.1))\n",
    "model.add(Dense(512, activation='sigmoid'))\n",
    "#model.add(Dense(8, activation='softmax'))\n",
    "\n",
    "#model = Sequential()\n",
    "#model.add(tf.keras.layers.Reshape((12, 42, 1), input_shape=(12,42)))\n",
    "#model.add(Conv2D(128, 5,padding='same',\n",
    "                 #input_shape=(12,42)))\n",
    "#model.add(Activation('relu'))\n",
    "#model.add(Dropout(0.1))\n",
    "#model.add(MaxPooling2D(pool_size=(8)))\n",
    "#model.add(Conv2D(128, 5,padding='same',))\n",
    "#model.add(Activation('relu'))\n",
    "#model.add(Dropout(0.1))\n",
    "#model.add(Flatten())\n",
    "#model.add(Dense(8))\n",
    "#model.add(Activation('softmax'))\n",
    "opt = tf.keras.optimizers.RMSprop(learning_rate=0.001, rho=0.9, epsilon=None, decay=0.0)"
   ]
  },
  {
   "cell_type": "code",
   "execution_count": 49,
   "id": "d46ef759-6560-43b4-b64d-2d33b686523a",
   "metadata": {},
   "outputs": [
    {
     "name": "stdout",
     "output_type": "stream",
     "text": [
      "Model: \"sequential_3\"\n",
      "_________________________________________________________________\n",
      " Layer (type)                Output Shape              Param #   \n",
      "=================================================================\n",
      " reshape_3 (Reshape)         (None, 36, 42, 1)         0         \n",
      "                                                                 \n",
      " conv2d_6 (Conv2D)           (None, 36, 42, 128)       4736      \n",
      "                                                                 \n",
      " activation_9 (Activation)   (None, 36, 42, 128)       0         \n",
      "                                                                 \n",
      " dropout_9 (Dropout)         (None, 36, 42, 128)       0         \n",
      "                                                                 \n",
      " max_pooling2d_6 (MaxPooling  (None, 18, 21, 128)      0         \n",
      " 2D)                                                             \n",
      "                                                                 \n",
      " conv2d_7 (Conv2D)           (None, 18, 21, 128)       147584    \n",
      "                                                                 \n",
      " activation_10 (Activation)  (None, 18, 21, 128)       0         \n",
      "                                                                 \n",
      " max_pooling2d_7 (MaxPooling  (None, 9, 10, 128)       0         \n",
      " 2D)                                                             \n",
      "                                                                 \n",
      " activation_11 (Activation)  (None, 9, 10, 128)        0         \n",
      "                                                                 \n",
      " dropout_10 (Dropout)        (None, 9, 10, 128)        0         \n",
      "                                                                 \n",
      " flatten_3 (Flatten)         (None, 11520)             0         \n",
      "                                                                 \n",
      " dense_6 (Dense)             (None, 2048)              23595008  \n",
      "                                                                 \n",
      " dropout_11 (Dropout)        (None, 2048)              0         \n",
      "                                                                 \n",
      " dense_7 (Dense)             (None, 512)               1049088   \n",
      "                                                                 \n",
      "=================================================================\n",
      "Total params: 24,796,416\n",
      "Trainable params: 24,796,416\n",
      "Non-trainable params: 0\n",
      "_________________________________________________________________\n"
     ]
    }
   ],
   "source": [
    "model.summary()"
   ]
  },
  {
   "cell_type": "code",
   "execution_count": 50,
   "id": "c1a7dfa1-886b-4691-8b53-c3e0971066a5",
   "metadata": {},
   "outputs": [],
   "source": [
    "model.compile(loss='sparse_categorical_crossentropy',\n",
    "              optimizer=opt,\n",
    "              metrics=['accuracy'])"
   ]
  },
  {
   "cell_type": "code",
   "execution_count": 51,
   "id": "6248b00d-a7b1-4ce9-a958-50627e9c452b",
   "metadata": {},
   "outputs": [],
   "source": [
    "from keras.callbacks import EarlyStopping\n",
    "es = EarlyStopping(monitor='val_loss', mode='min', verbose=1, patience=15)"
   ]
  },
  {
   "cell_type": "code",
   "execution_count": 52,
   "id": "4e4ae786-ee7a-40ec-93df-8804c98f8840",
   "metadata": {},
   "outputs": [
    {
     "name": "stdout",
     "output_type": "stream",
     "text": [
      "Epoch 1/40\n",
      "20/20 [==============================] - 136s 7s/step - loss: 13.1263 - accuracy: 0.1582 - val_loss: 3.0655 - val_accuracy: 0.1689\n",
      "Epoch 2/40\n",
      "20/20 [==============================] - 133s 7s/step - loss: 2.5026 - accuracy: 0.2078 - val_loss: 1.8255 - val_accuracy: 0.2738\n",
      "Epoch 3/40\n",
      "20/20 [==============================] - 135s 7s/step - loss: 2.1085 - accuracy: 0.2556 - val_loss: 1.6774 - val_accuracy: 0.3278\n",
      "Epoch 4/40\n",
      "20/20 [==============================] - 133s 7s/step - loss: 4.9506 - accuracy: 0.2756 - val_loss: 2.3049 - val_accuracy: 0.2182\n",
      "Epoch 5/40\n",
      "20/20 [==============================] - 133s 7s/step - loss: 2.8590 - accuracy: 0.2990 - val_loss: 6.0440 - val_accuracy: 0.2295\n",
      "Epoch 6/40\n",
      "20/20 [==============================] - 140s 7s/step - loss: 3.1553 - accuracy: 0.3126 - val_loss: 1.4864 - val_accuracy: 0.4240\n",
      "Epoch 7/40\n",
      "20/20 [==============================] - 140s 7s/step - loss: 2.3557 - accuracy: 0.3447 - val_loss: 1.4820 - val_accuracy: 0.4151\n",
      "Epoch 8/40\n",
      "20/20 [==============================] - 142s 7s/step - loss: 1.6676 - accuracy: 0.4004 - val_loss: 1.4567 - val_accuracy: 0.4266\n",
      "Epoch 9/40\n",
      "20/20 [==============================] - 141s 7s/step - loss: 1.4686 - accuracy: 0.4298 - val_loss: 1.3935 - val_accuracy: 0.4290\n",
      "Epoch 10/40\n",
      "20/20 [==============================] - 142s 7s/step - loss: 4.5118 - accuracy: 0.3312 - val_loss: 1.4785 - val_accuracy: 0.4342\n",
      "Epoch 11/40\n",
      "20/20 [==============================] - 145s 7s/step - loss: 1.5313 - accuracy: 0.4669 - val_loss: 1.4512 - val_accuracy: 0.4611\n",
      "Epoch 12/40\n",
      "20/20 [==============================] - 149s 7s/step - loss: 1.3301 - accuracy: 0.4874 - val_loss: 1.2734 - val_accuracy: 0.5064\n",
      "Epoch 13/40\n",
      "20/20 [==============================] - 149s 7s/step - loss: 1.2235 - accuracy: 0.5244 - val_loss: 1.5819 - val_accuracy: 0.4086\n",
      "Epoch 14/40\n",
      "20/20 [==============================] - 149s 7s/step - loss: 3.5004 - accuracy: 0.4543 - val_loss: 1.8878 - val_accuracy: 0.3279\n",
      "Epoch 15/40\n",
      "20/20 [==============================] - 150s 8s/step - loss: 1.4621 - accuracy: 0.4981 - val_loss: 1.2036 - val_accuracy: 0.5211\n",
      "Epoch 16/40\n",
      "20/20 [==============================] - 148s 7s/step - loss: 1.0847 - accuracy: 0.5755 - val_loss: 1.1830 - val_accuracy: 0.5329\n",
      "Epoch 17/40\n",
      "20/20 [==============================] - 147s 7s/step - loss: 1.0585 - accuracy: 0.5880 - val_loss: 1.3626 - val_accuracy: 0.4769\n",
      "Epoch 18/40\n",
      "20/20 [==============================] - 147s 7s/step - loss: 4.5631 - accuracy: 0.5096 - val_loss: 6.0563 - val_accuracy: 0.2624\n",
      "Epoch 19/40\n",
      "20/20 [==============================] - 149s 7s/step - loss: 2.1792 - accuracy: 0.4891 - val_loss: 1.1503 - val_accuracy: 0.5456\n",
      "Epoch 20/40\n",
      "20/20 [==============================] - 148s 7s/step - loss: 1.4735 - accuracy: 0.5287 - val_loss: 1.1605 - val_accuracy: 0.5370\n",
      "Epoch 21/40\n",
      "20/20 [==============================] - 152s 8s/step - loss: 1.0020 - accuracy: 0.6181 - val_loss: 1.2537 - val_accuracy: 0.5183\n",
      "Epoch 22/40\n",
      "20/20 [==============================] - 150s 8s/step - loss: 0.9290 - accuracy: 0.6436 - val_loss: 1.1712 - val_accuracy: 0.5446\n",
      "Epoch 23/40\n",
      "20/20 [==============================] - 150s 8s/step - loss: 3.1391 - accuracy: 0.6008 - val_loss: 48.5615 - val_accuracy: 0.2833\n",
      "Epoch 24/40\n",
      "20/20 [==============================] - 150s 8s/step - loss: 4.7853 - accuracy: 0.5011 - val_loss: 1.2062 - val_accuracy: 0.5188\n",
      "Epoch 25/40\n",
      "20/20 [==============================] - 150s 8s/step - loss: 0.8768 - accuracy: 0.6600 - val_loss: 1.2657 - val_accuracy: 0.5168\n",
      "Epoch 26/40\n",
      "20/20 [==============================] - 151s 8s/step - loss: 0.7882 - accuracy: 0.6997 - val_loss: 1.2363 - val_accuracy: 0.5309\n",
      "Epoch 27/40\n",
      "20/20 [==============================] - 154s 8s/step - loss: 0.7406 - accuracy: 0.7163 - val_loss: 1.2550 - val_accuracy: 0.5352\n",
      "Epoch 28/40\n",
      "20/20 [==============================] - 155s 8s/step - loss: 0.7340 - accuracy: 0.7245 - val_loss: 1.3350 - val_accuracy: 0.5313\n",
      "Epoch 29/40\n",
      "20/20 [==============================] - 153s 8s/step - loss: 6.7352 - accuracy: 0.4583 - val_loss: 1.1986 - val_accuracy: 0.5478\n",
      "Epoch 30/40\n",
      "20/20 [==============================] - 154s 8s/step - loss: 0.7589 - accuracy: 0.7077 - val_loss: 1.2721 - val_accuracy: 0.5458\n",
      "Epoch 31/40\n",
      "20/20 [==============================] - 153s 8s/step - loss: 0.6520 - accuracy: 0.7524 - val_loss: 1.2238 - val_accuracy: 0.5578\n",
      "Epoch 32/40\n",
      "20/20 [==============================] - 153s 8s/step - loss: 0.5870 - accuracy: 0.7835 - val_loss: 1.3305 - val_accuracy: 0.5281\n",
      "Epoch 33/40\n",
      "20/20 [==============================] - 154s 8s/step - loss: 0.6070 - accuracy: 0.7822 - val_loss: 1.3990 - val_accuracy: 0.5315\n",
      "Epoch 34/40\n",
      "20/20 [==============================] - 157s 8s/step - loss: 0.5026 - accuracy: 0.8179 - val_loss: 1.4781 - val_accuracy: 0.5209\n",
      "Epoch 35/40\n",
      "20/20 [==============================] - 160s 8s/step - loss: 0.5383 - accuracy: 0.8136 - val_loss: 1.3760 - val_accuracy: 0.5544\n",
      "Epoch 36/40\n",
      "20/20 [==============================] - 159s 8s/step - loss: 0.3932 - accuracy: 0.8618 - val_loss: 1.5388 - val_accuracy: 0.5588\n",
      "Epoch 37/40\n",
      "20/20 [==============================] - 168s 8s/step - loss: 0.3315 - accuracy: 0.8880 - val_loss: 1.5799 - val_accuracy: 0.5532\n",
      "Epoch 38/40\n",
      "20/20 [==============================] - 204s 10s/step - loss: 6.9798 - accuracy: 0.6280 - val_loss: 1.3989 - val_accuracy: 0.5582\n",
      "Epoch 39/40\n",
      "20/20 [==============================] - 203s 10s/step - loss: 0.3697 - accuracy: 0.8707 - val_loss: 1.6159 - val_accuracy: 0.5703\n",
      "Epoch 40/40\n",
      "20/20 [==============================] - 218s 11s/step - loss: 0.2398 - accuracy: 0.9197 - val_loss: 1.7182 - val_accuracy: 0.5629\n"
     ]
    }
   ],
   "source": [
    "cnnhistory=model.fit(X_train, y_train, batch_size=1024, epochs=40,validation_data=(X_test, y_test), verbose=1)\n"
   ]
  },
  {
   "cell_type": "code",
   "execution_count": 53,
   "id": "6c37114e-2008-433a-8a49-3ab6e2e66f15",
   "metadata": {},
   "outputs": [
    {
     "data": {
      "image/png": "[encoded data removed]",
      "text/plain": [
       "<Figure size 432x288 with 1 Axes>"
      ]
     },
     "metadata": {
      "needs_background": "light"
     },
     "output_type": "display_data"
    }
   ],
   "source": [
    "plt.plot(cnnhistory.history['loss'])\n",
    "plt.plot(cnnhistory.history['val_loss'])\n",
    "plt.title('model loss')\n",
    "plt.ylabel('loss')\n",
    "plt.xlabel('epoch')\n",
    "plt.legend(['train', 'test'], loc='upper left')\n",
    "plt.show()"
   ]
  },
  {
   "cell_type": "code",
   "execution_count": 54,
   "id": "171ad9b6-5843-44e6-ae33-c19b493722fe",
   "metadata": {},
   "outputs": [
    {
     "data": {
      "image/png": "[encoded data removed]",
      "text/plain": [
       "<Figure size 432x288 with 1 Axes>"
      ]
     },
     "metadata": {
      "needs_background": "light"
     },
     "output_type": "display_data"
    }
   ],
   "source": [
    "plt.plot(cnnhistory.history['accuracy'])\n",
    "plt.plot(cnnhistory.history['val_accuracy'])\n",
    "plt.title('model accuracy')\n",
    "plt.ylabel('acc')\n",
    "plt.xlabel('epoch')\n",
    "plt.legend(['train', 'test'], loc='upper left')\n",
    "plt.show()"
   ]
  },
  {
   "cell_type": "code",
   "execution_count": 56,
   "id": "2acfbba3-42d1-434c-a1d9-814c38da5439",
   "metadata": {},
   "outputs": [
    {
     "name": "stdout",
     "output_type": "stream",
     "text": [
      "Saved trained model at /content/drive/My Drive/Ravdess_model\\Emotion_Voice_Detection_Model.h5 \n"
     ]
    }
   ],
   "source": [
    "import os\n",
    "model_name = 'Emotion_Voice_Detection_Model.h5'\n",
    "save_dir = 'C:\\\\Users\\\\Admin\\\\Documents\\\\GitHub\\\\VocalEmotionSensor'\n",
    "# Save model and weights\n",
    "if not os.path.isdir(save_dir):\n",
    "    os.makedirs(save_dir)\n",
    "model_path = os.path.join(save_dir, model_name)\n",
    "model.save(model_path)\n"
   ]
  },
  {
   "cell_type": "code",
   "execution_count": null,
   "id": "0ecad49a-6da8-44d5-8c7d-c67e36574ade",
   "metadata": {},
   "outputs": [],
   "source": []
  }
 ],
 "metadata": {
  "kernelspec": {
   "display_name": "Python 3 (ipykernel)",
   "language": "python",
   "name": "python3"
  },
  "language_info": {
   "codemirror_mode": {
    "name": "ipython",
    "version": 3
   },
   "file_extension": ".py",
   "mimetype": "text/x-python",
   "name": "python",
   "nbconvert_exporter": "python",
   "pygments_lexer": "ipython3",
   "version": "3.9.7"
  }
 },
 "nbformat": 4,
 "nbformat_minor": 5
}

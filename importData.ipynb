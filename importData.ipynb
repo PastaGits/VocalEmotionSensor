{
 "cells": [
  {
   "cell_type": "code",
   "execution_count": 3,
   "id": "60d3f7f5-7af4-4e13-8f85-a524eda1256f",
   "metadata": {},
   "outputs": [],
   "source": [
    "import h5py\n",
    "import librosa\n",
    "\n",
    "file = h5py.File('dataset.h5', 'r')\n",
    "#label_dict = {\"['n']\": 0, \"['c']\": 1, \"['h']\": 2, \"['s']\": 3,\n",
    " #             \"['a']\": 4, \"['f']\": 5, \"['d']\": 6, \"['su']\": 7}\n",
    "#label_dict = {\"[b'n']\": 0, \"[b'c']\": 1, \"[b'h']\": 2, \"[b'sa']\": 3,\n",
    "              #\"[b'a']\": 4, \"[b'f']\": 5, \"[b'd']\": 6, \"[b'su']\": 7}"
   ]
  },
  {
   "cell_type": "code",
   "execution_count": 4,
   "id": "6564c708-0940-482e-add1-62b28542452e",
   "metadata": {},
   "outputs": [
    {
     "data": {
      "text/plain": [
       "(36406, 12, 42)"
      ]
     },
     "execution_count": 4,
     "metadata": {},
     "output_type": "execute_result"
    }
   ],
   "source": [
    "X, y = file['mfcc'][:36406], file['label'][:36406]\n",
    "\n",
    "mfcc_delta = librosa.feature.delta(X)\n",
    "mfcc_delta2 = librosa.feature.delta(X, order = 2)\n",
    "\n",
    "#X_test, y_test = file['mfcc'][], file['label'][]\n",
    "file['mfcc'].shape"
   ]
  },
  {
   "cell_type": "code",
   "execution_count": 7,
   "id": "7874492d-803d-49ff-aefb-9075524e4bed",
   "metadata": {},
   "outputs": [],
   "source": [
    "X_deltas = np.concatenate((X,mfcc_delta, mfcc_delta2), axis = 1)"
   ]
  },
  {
   "cell_type": "code",
   "execution_count": 8,
   "id": "f025b75d-004b-40b3-bb08-7c156a12641a",
   "metadata": {},
   "outputs": [
    {
     "data": {
      "text/plain": [
       "(36406, 36, 42)"
      ]
     },
     "execution_count": 8,
     "metadata": {},
     "output_type": "execute_result"
    }
   ],
   "source": [
    "X_deltas.shape"
   ]
  },
  {
   "cell_type": "code",
   "execution_count": 9,
   "id": "17310ce1-3c6c-4593-ae48-8cb6bf6ea35f",
   "metadata": {},
   "outputs": [
    {
     "data": {
      "text/plain": [
       "(36406, 1)"
      ]
     },
     "execution_count": 9,
     "metadata": {},
     "output_type": "execute_result"
    }
   ],
   "source": [
    "y.shape"
   ]
  },
  {
   "cell_type": "code",
   "execution_count": 10,
   "id": "12eaf046-da42-4a76-aacc-3709e385414e",
   "metadata": {},
   "outputs": [],
   "source": [
    "import sys\n",
    "import numba \n",
    "import numpy\n",
    "from numba import cuda\n",
    "import numpy as np"
   ]
  },
  {
   "cell_type": "code",
   "execution_count": 11,
   "id": "6b4caedd-91d9-42f3-9e00-97f1442e9276",
   "metadata": {},
   "outputs": [],
   "source": [
    "from sklearn.model_selection import train_test_split\n",
    "\n",
    "X_train, X_test, y_train, y_test = train_test_split(X_deltas, y, test_size=0.33, random_state=42)"
   ]
  },
  {
   "cell_type": "code",
   "execution_count": 13,
   "id": "01201eaf-9923-4326-a475-b21eb264de24",
   "metadata": {},
   "outputs": [
    {
     "data": {
      "text/plain": [
       "array([4], dtype=int64)"
      ]
     },
     "execution_count": 13,
     "metadata": {},
     "output_type": "execute_result"
    },
    {
     "data": {
      "image/png": "[encoded data removed]",
      "text/plain": [
       "<Figure size 432x288 with 1 Axes>"
      ]
     },
     "metadata": {
      "needs_background": "light"
     },
     "output_type": "display_data"
    }
   ],
   "source": [
    "plt.imshow(X_train[6])\n",
    "y_train[6]"
   ]
  },
  {
   "cell_type": "code",
   "execution_count": 15,
   "id": "047ded05-455b-4685-99c5-383ba3e82b79",
   "metadata": {},
   "outputs": [],
   "source": [
    "import keras\n",
    "import numpy as np\n",
    "import matplotlib.pyplot as plt\n",
    "import tensorflow as tf\n",
    "from tensorflow.keras.preprocessing import sequence\n",
    "from tensorflow.keras.models import Sequential\n",
    "from tensorflow.keras.layers import Dense, Embedding\n",
    "from tensorflow.keras.utils import to_categorical\n",
    "from tensorflow.keras.layers import Input, Flatten, Dropout, Activation\n",
    "from tensorflow.keras.layers import Conv2D, MaxPooling2D\n",
    "from tensorflow.keras.models import Model\n",
    "from tensorflow.keras.callbacks import ModelCheckpoint\n",
    "from tensorflow.keras import optimizers\n",
    "\n",
    "model = Sequential()\n",
    "\n",
    "model.add(tf.keras.layers.Reshape((36, 42, 1), input_shape=(36,42)))\n",
    "model.add(Conv2D(128, (6,6),padding='same'))\n",
    "model.add(Activation('relu'))\n",
    "model.add(Dropout(0.2))\n",
    "model.add(MaxPooling2D(2,2))\n",
    "\n",
    "model.add(Conv2D(128, (3,3),padding='same',))\n",
    "model.add(Activation('relu'))\n",
    "model.add(MaxPooling2D(2,2))\n",
    "\n",
    "model.add(Activation('relu'))\n",
    "model.add(Dropout(0.2))\n",
    "\n",
    "model.add(Flatten())\n",
    "model.add(Dense(2048, activation='relu'))\n",
    "model.add(Dropout(0.2))\n",
    "model.add(Dense(512, activation='sigmoid'))\n",
    "model.add(Dropout(0.2))\n",
    "#model.add(Dense(8, activation='softmax'))\n",
    "\n",
    "#model = Sequential()\n",
    "#model.add(tf.keras.layers.Reshape((12, 42, 1), input_shape=(12,42)))\n",
    "#model.add(Conv2D(128, 5,padding='same',\n",
    "                 #input_shape=(12,42)))\n",
    "#model.add(Activation('relu'))\n",
    "#model.add(Dropout(0.1))\n",
    "#model.add(MaxPooling2D(pool_size=(8)))\n",
    "#model.add(Conv2D(128, 5,padding='same',))\n",
    "#model.add(Activation('relu'))\n",
    "#model.add(Dropout(0.1))\n",
    "#model.add(Flatten())\n",
    "#model.add(Dense(8))\n",
    "#model.add(Activation('softmax'))\n",
    "opt = tf.keras.optimizers.RMSprop(learning_rate=0.001, rho=0.9, epsilon=None, decay=0.0)"
   ]
  },
  {
   "cell_type": "code",
   "execution_count": 16,
   "id": "d46ef759-6560-43b4-b64d-2d33b686523a",
   "metadata": {},
   "outputs": [
    {
     "name": "stdout",
     "output_type": "stream",
     "text": [
      "Model: \"sequential_2\"\n",
      "_________________________________________________________________\n",
      " Layer (type)                Output Shape              Param #   \n",
      "=================================================================\n",
      " reshape_2 (Reshape)         (None, 36, 42, 1)         0         \n",
      "                                                                 \n",
      " conv2d_4 (Conv2D)           (None, 36, 42, 128)       4736      \n",
      "                                                                 \n",
      " activation_6 (Activation)   (None, 36, 42, 128)       0         \n",
      "                                                                 \n",
      " dropout_8 (Dropout)         (None, 36, 42, 128)       0         \n",
      "                                                                 \n",
      " max_pooling2d_4 (MaxPooling  (None, 18, 21, 128)      0         \n",
      " 2D)                                                             \n",
      "                                                                 \n",
      " conv2d_5 (Conv2D)           (None, 18, 21, 128)       147584    \n",
      "                                                                 \n",
      " activation_7 (Activation)   (None, 18, 21, 128)       0         \n",
      "                                                                 \n",
      " max_pooling2d_5 (MaxPooling  (None, 9, 10, 128)       0         \n",
      " 2D)                                                             \n",
      "                                                                 \n",
      " activation_8 (Activation)   (None, 9, 10, 128)        0         \n",
      "                                                                 \n",
      " dropout_9 (Dropout)         (None, 9, 10, 128)        0         \n",
      "                                                                 \n",
      " flatten_2 (Flatten)         (None, 11520)             0         \n",
      "                                                                 \n",
      " dense_4 (Dense)             (None, 2048)              23595008  \n",
      "                                                                 \n",
      " dropout_10 (Dropout)        (None, 2048)              0         \n",
      "                                                                 \n",
      " dense_5 (Dense)             (None, 512)               1049088   \n",
      "                                                                 \n",
      " dropout_11 (Dropout)        (None, 512)               0         \n",
      "                                                                 \n",
      "=================================================================\n",
      "Total params: 24,796,416\n",
      "Trainable params: 24,796,416\n",
      "Non-trainable params: 0\n",
      "_________________________________________________________________\n"
     ]
    }
   ],
   "source": [
    "model.summary()"
   ]
  },
  {
   "cell_type": "code",
   "execution_count": 17,
   "id": "c1a7dfa1-886b-4691-8b53-c3e0971066a5",
   "metadata": {},
   "outputs": [],
   "source": [
    "model.compile(loss='sparse_categorical_crossentropy',\n",
    "              optimizer=opt,\n",
    "              metrics=['accuracy'])"
   ]
  },
  {
   "cell_type": "code",
   "execution_count": 20,
   "id": "6248b00d-a7b1-4ce9-a958-50627e9c452b",
   "metadata": {},
   "outputs": [],
   "source": [
    "from keras.callbacks import EarlyStopping\n",
    "es = EarlyStopping(monitor='val_loss', mode='min', verbose=1, patience=15)"
   ]
  },
  {
   "cell_type": "code",
   "execution_count": null,
   "id": "4e4ae786-ee7a-40ec-93df-8804c98f8840",
   "metadata": {},
   "outputs": [
    {
     "name": "stdout",
     "output_type": "stream",
     "text": [
      "Epoch 1/100\n",
      "48/48 [==============================] - 195s 4s/step - loss: 5.5752 - accuracy: 0.1452 - val_loss: 2.8329 - val_accuracy: 0.1385\n",
      "Epoch 2/100\n",
      "17/48 [=========>....................] - ETA: 1:53 - loss: 5.5900 - accuracy: 0.1453"
     ]
    }
   ],
   "source": [
    "cnnhistory=model.fit(X_train, y_train, batch_size=512, epochs=100,validation_data=(X_test, y_test),callbacks=[es], verbose=1)\n"
   ]
  },
  {
   "cell_type": "code",
   "execution_count": null,
   "id": "6c37114e-2008-433a-8a49-3ab6e2e66f15",
   "metadata": {},
   "outputs": [],
   "source": [
    "plt.plot(cnnhistory.history['loss'])\n",
    "plt.plot(cnnhistory.history['val_loss'])\n",
    "plt.title('model loss')\n",
    "plt.ylabel('loss')\n",
    "plt.xlabel('epoch')\n",
    "plt.legend(['train', 'test'], loc='upper left')\n",
    "plt.show()"
   ]
  },
  {
   "cell_type": "code",
   "execution_count": 79,
   "id": "171ad9b6-5843-44e6-ae33-c19b493722fe",
   "metadata": {},
   "outputs": [
    {
     "data": {
      "image/png": "[encoded data removed]",
      "text/plain": [
       "<Figure size 432x288 with 1 Axes>"
      ]
     },
     "metadata": {
      "needs_background": "light"
     },
     "output_type": "display_data"
    }
   ],
   "source": [
    "plt.plot(cnnhistory.history['accuracy'])\n",
    "plt.plot(cnnhistory.history['val_accuracy'])\n",
    "plt.title('model accuracy')\n",
    "plt.ylabel('acc')\n",
    "plt.xlabel('epoch')\n",
    "plt.legend(['train', 'test'], loc='upper left')\n",
    "plt.show()"
   ]
  },
  {
   "cell_type": "code",
   "execution_count": null,
   "id": "2acfbba3-42d1-434c-a1d9-814c38da5439",
   "metadata": {},
   "outputs": [],
   "source": []
  }
 ],
 "metadata": {
  "kernelspec": {
   "display_name": "Python 3 (ipykernel)",
   "language": "python",
   "name": "python3"
  },
  "language_info": {
   "codemirror_mode": {
    "name": "ipython",
    "version": 3
   },
   "file_extension": ".py",
   "mimetype": "text/x-python",
   "name": "python",
   "nbconvert_exporter": "python",
   "pygments_lexer": "ipython3",
   "version": "3.9.7"
  }
 },
 "nbformat": 4,
 "nbformat_minor": 5
}

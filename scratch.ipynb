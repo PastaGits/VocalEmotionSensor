{
 "cells": [
  {
   "cell_type": "code",
   "execution_count": 9,
   "metadata": {},
   "outputs": [
    {
     "name": "stdout",
     "output_type": "stream",
     "text": [
      "38 36\n",
      "35 33\n",
      "32 30\n",
      "29 27\n",
      "26 24\n",
      "23 21\n",
      "20 18\n",
      "17 15\n",
      "14 12\n",
      "11 9\n",
      "8 6\n",
      "5 3\n",
      "2 0\n"
     ]
    }
   ],
   "source": [
    "for i in range(13, 0, -1):\n",
    "    start_index = i*3-1\n",
    "    end_index = i*3-3\n",
    "    print(start_index, end_index)"
   ]
  },
  {
   "cell_type": "code",
   "execution_count": 113,
   "metadata": {},
   "outputs": [
    {
     "name": "stdout",
     "output_type": "stream",
     "text": [
      "(2, 10)\n"
     ]
    },
    {
     "data": {
      "text/plain": [
       "array([[0, 1, 1, 1, 1, 1, 1, 1, 1, 1],\n",
       "       [0, 2, 2, 2, 2, 2, 2, 2, 2, 2]])"
      ]
     },
     "execution_count": 113,
     "metadata": {},
     "output_type": "execute_result"
    }
   ],
   "source": [
    "import tensorflow as tf\n",
    "import numpy as np\n",
    "t1 = tf.constant([[0,1,1,1,1,1,1,1,1,1],\n",
    "[0,2,2,2,2,2,2,2,2,2],\n",
    "[0,3,3,3,3,3,3,3,3,3] ,\n",
    "[0,4,4,4,4,4,4,4,4,4],\n",
    "[0,5,5,5,5,5,5,5,5,5],\n",
    "[0, 6, 6,6, 6, 6, 6, 6, 6, 6]],)\n",
    "\n",
    "t1.shape\n",
    " # split every 2 rows\n",
    "stacks = tf.split(t1, 3, 0)\n",
    "\n",
    "# t_0, t_1, t_2\n",
    "\n",
    "for i in range(len(stacks)):\n",
    "    stacks[i] = stacks[i].numpy()\n",
    "\n",
    "\n",
    "stacks = np.array(stacks)\n",
    "\n",
    "# stacks = stacks[:,::-1,]\n",
    "print(stacks[0].shape)\n",
    "stacks[0]\n"
   ]
  },
  {
   "cell_type": "code",
   "execution_count": 112,
   "metadata": {},
   "outputs": [
    {
     "data": {
      "text/plain": [
       "array([[0, 1, 1, 1, 1, 1, 1, 1, 1, 1],\n",
       "       [0, 3, 3, 3, 3, 3, 3, 3, 3, 3],\n",
       "       [0, 5, 5, 5, 5, 5, 5, 5, 5, 5],\n",
       "       [0, 2, 2, 2, 2, 2, 2, 2, 2, 2],\n",
       "       [0, 4, 4, 4, 4, 4, 4, 4, 4, 4],\n",
       "       [0, 6, 6, 6, 6, 6, 6, 6, 6, 6]])"
      ]
     },
     "execution_count": 112,
     "metadata": {},
     "output_type": "execute_result"
    }
   ],
   "source": [
    "np.stack((stacks[0].T, stacks[1].T, stacks[2].T), axis=2).reshape(10,6).T\n",
    "np.stack((stacks.T), axis=2).reshape(6,10)\n",
    "# np.reshape()"
   ]
  },
  {
   "cell_type": "code",
   "execution_count": null,
   "metadata": {},
   "outputs": [],
   "source": []
  }
 ],
 "metadata": {
  "interpreter": {
   "hash": "8e9a847315198e1db6c3e64fe9ef1c8f4cc1666ddba368d2a78c3257c3b63773"
  },
  "kernelspec": {
   "display_name": "Python 3.9.2 64-bit",
   "language": "python",
   "name": "python3"
  },
  "language_info": {
   "codemirror_mode": {
    "name": "ipython",
    "version": 3
   },
   "file_extension": ".py",
   "mimetype": "text/x-python",
   "name": "python",
   "nbconvert_exporter": "python",
   "pygments_lexer": "ipython3",
   "version": "3.9.2"
  },
  "orig_nbformat": 4
 },
 "nbformat": 4,
 "nbformat_minor": 2
}

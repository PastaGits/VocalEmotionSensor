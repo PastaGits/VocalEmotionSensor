{
 "cells": [
  {
   "cell_type": "code",
   "execution_count": 9,
   "metadata": {},
   "outputs": [
    {
     "data": {
      "text/plain": [
       "(  label  gender                 pathname                  filename\n",
       " 0     n  female  \\data\\ravdess\\Actor_01\\  03-01-01-01-01-01-01.wav\n",
       " 1     n  female  \\data\\ravdess\\Actor_01\\  03-01-01-01-01-02-01.wav\n",
       " 2     n  female  \\data\\ravdess\\Actor_01\\  03-01-01-01-02-01-01.wav\n",
       " 3     n  female  \\data\\ravdess\\Actor_01\\  03-01-01-01-02-02-01.wav\n",
       " 4     c  female  \\data\\ravdess\\Actor_01\\  03-01-02-01-01-01-01.wav,\n",
       " (12162, 4))"
      ]
     },
     "execution_count": 9,
     "metadata": {},
     "output_type": "execute_result"
    }
   ],
   "source": [
    "import numpy as np\n",
    "import pandas as pd\n",
    "\n",
    "# load ravdess.npy , savee.npy and tess.npy\n",
    "ravdess_data = np.load('ravdess.npy')\n",
    "savee_data = np.load('savee.npy') \n",
    "tess_data = np.load('tess.npy')\n",
    "crema_data = np.load('crema.npy')\n",
    "\n",
    "# ravdess_data.shape, savee_data.shape, tess_data.shape\n",
    "all_data = np.vstack((ravdess_data, savee_data, tess_data, crema_data))\n",
    "df = pd.DataFrame(all_data, columns=['label', 'gender', 'pathname', 'filename'])\n",
    "df.head(), df.shape"
   ]
  },
  {
   "cell_type": "code",
   "execution_count": null,
   "metadata": {},
   "outputs": [],
   "source": []
  },
  {
   "cell_type": "code",
   "execution_count": null,
   "metadata": {},
   "outputs": [],
   "source": []
  }
 ],
 "metadata": {
  "interpreter": {
   "hash": "39d7a255d4176126bb60d58490ff3164cc3b659c87e283a77bc5e59f8812299c"
  },
  "kernelspec": {
   "display_name": "Python 3.9.2 64-bit",
   "language": "python",
   "name": "python3"
  },
  "language_info": {
   "codemirror_mode": {
    "name": "ipython",
    "version": 3
   },
   "file_extension": ".py",
   "mimetype": "text/x-python",
   "name": "python",
   "nbconvert_exporter": "python",
   "pygments_lexer": "ipython3",
   "version": "3.9.2"
  },
  "orig_nbformat": 4
 },
 "nbformat": 4,
 "nbformat_minor": 2
}

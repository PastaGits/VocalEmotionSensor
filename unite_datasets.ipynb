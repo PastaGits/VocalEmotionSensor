{
 "cells": [
  {
   "cell_type": "code",
   "execution_count": 2,
   "metadata": {},
   "outputs": [],
   "source": [
    "import numpy as np\n",
    "import pandas as pd\n",
    "import lib\n",
    "import os\n",
    "\n",
    "pwd = os.getcwd()\n",
    "# load ravdess.npy , savee.npy and tess.npy\n",
    "ravdess_data = np.load('ravdess.npy')\n",
    "savee_data = np.load('savee.npy') \n",
    "tess_data = np.load('tess.npy')\n",
    "crema_data = np.load('crema.npy')\n",
    "\n",
    "# ravdess_data.shape, savee_data.shape, tess_data.shape\n",
    "all_data = np.vstack((ravdess_data, savee_data, tess_data, crema_data))\n",
    "df = pd.DataFrame(all_data, columns=['label', 'gender', 'pathname', 'filename'])\n",
    "df.head(), df.shape\n",
    "\n",
    "# save all data into npy file\n",
    "np.save(\"all_datasets.npy\", df)"
   ]
  },
  {
   "cell_type": "markdown",
   "metadata": {},
   "source": []
  },
  {
   "cell_type": "code",
   "execution_count": 3,
   "metadata": {},
   "outputs": [],
   "source": [
    "import matplotlib.pyplot as plt\n",
    "def plot_spec(Y_scale, sr, hop_size, y_axis):\n",
    "    plt.figure(figsize=(25, 10))\n",
    "    librosa.display.specshow(Y_scale, sr=sr, hop_length=hop_size, x_axis='time', y_axis= y_axis)\n",
    "    plt.colorbar(format='%+2.0f dB')"
   ]
  },
  {
   "cell_type": "code",
   "execution_count": 9,
   "metadata": {},
   "outputs": [
    {
     "name": "stdout",
     "output_type": "stream",
     "text": [
      "(2049, 35)\n"
     ]
    }
   ],
   "source": [
    "# load wav files using the 'pathname' and 'filename' columns of all_data with librosa\n",
    "import librosa\n",
    "import librosa.display\n",
    " # import ipy previewer\n",
    "import IPython.display as ipd\n",
    "\n",
    "frame_size = 4096 # in samples\n",
    "hop_size = 1024 # in samples\n",
    "temporal_chunk_size = 30 # number of temporal bins per sample\n",
    "\n",
    "# total temporal bins is total_samples/hop_size \n",
    "\n",
    "\n",
    "for i in range(2):\n",
    "    pathname = df['pathname'][i]\n",
    "    filename = df['filename'][i]\n",
    "\n",
    "    wav, sr = librosa.load(pwd+ pathname + filename)\n",
    "    trimmed_wav, _ = librosa.effects.trim(wav, top_db=45)\n",
    "\n",
    "    if sr != 22050:\n",
    "        raise ValueError(\"Sample rate is not 22050Hz\")\n",
    "\n",
    "    S_audio = librosa.stft(trimmed_wav, n_fft=frame_size, hop_length=hop_size)\n",
    "    y_audio = np.abs(S_audio)\n",
    "    print(y_audio.shape)\n",
    "\n",
    "\n",
    "    # split y into chunks of size temporal_chunk_size.\n",
    "    _y =  (y_audio).T\n",
    "    split_indices = [(i, len(_y) - 30)[ int(i + 30 >= len(_y))]for i in range(0,len(_y), temporal_chunk_size)]\n",
    "    raw_chunks = np.vstack([_y[i:i+30].T for i in  split_indices])\n",
    "    \n",
    "\n",
    "    # plot a single window from the STFT using librosa \n",
    "    # Y_scale = np.abs(s_scale)**2\n",
    "    # plot_spec(Y_scale=librosa.power_to_db(Y_scale), sr=sr, hop_size=hop_size, y_axis='log')\n",
    "    \n",
    "    # extract the mel spectrogram\n",
    "    mel_spec = librosa.feature.melspectrogram(y=trimmed_wav, sr=sr, n_fft=frame_size, hop_length=hop_size, n_mels=18)\n",
    "    \n",
    "    log_mel_spec = librosa.power_to_db(mel_spec)\n",
    "\n",
    "    librosa.display.specshow(log_mel_spec, sr=sr, hop_length=hop_size, x_axis='time', y_axis='mel')\n",
    "    plt.show()\n",
    "\n",
    "    # display both wav and trim_wav\n",
    "    librosa.display.waveshow(trimmed_wav, sr=sr)\n",
    "    plt.show()\n",
    "    # librosa.display.waveshow(wav, sr=sr)\n",
    "    # plt.show()\n",
    "\n",
    "\n",
    "# ipd.Audio(filename=pwd+ pathname + filename)\n",
    "\n",
    "    \n"
   ]
  }
 ],
 "metadata": {
  "interpreter": {
   "hash": "39d7a255d4176126bb60d58490ff3164cc3b659c87e283a77bc5e59f8812299c"
  },
  "kernelspec": {
   "display_name": "Python 3.9.2 64-bit",
   "language": "python",
   "name": "python3"
  },
  "language_info": {
   "codemirror_mode": {
    "name": "ipython",
    "version": 3
   },
   "file_extension": ".py",
   "mimetype": "text/x-python",
   "name": "python",
   "nbconvert_exporter": "python",
   "pygments_lexer": "ipython3",
   "version": "3.9.2"
  },
  "orig_nbformat": 4
 },
 "nbformat": 4,
 "nbformat_minor": 2
}

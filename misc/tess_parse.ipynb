{
 "cells": [
  {
   "cell_type": "code",
   "execution_count": 1,
   "metadata": {},
   "outputs": [],
   "source": [
    "import os\n",
    "import numpy as np\n",
    "\n",
    "pwd = os.getcwd()\n",
    "\n",
    "# cwd is set to the github directory for me so /VocalEmotionSensor/\n",
    "# if urs is different change the parent directory to match\n",
    "parent_dir = '\\\\data\\\\tess'\n",
    "\n",
    "# pwd + parent_dir should look something like\n",
    "# '/VocalEmotionSensor/data/ravdess/'...\n",
    "audio_files = os.listdir(pwd + parent_dir)\n",
    "\n",
    "\n",
    "label_dict = {'01': 'neutral', '02': 'calm', '03': 'happy', '04': 'sad',\n",
    "              '05': 'angry', '06': 'fearful', '07': 'disgust', '08': 'surprised'}\n",
    "\n",
    "data = []\n",
    "directory_loc = parent_dir + '\\\\'\n",
    "for file in audio_files:\n",
    "    # skip non wav\n",
    "    if not ('.wav' in file):\n",
    "        continue\n",
    "\n",
    "    identifier = file.split('.')[0].split('_')\n",
    "\n",
    "    gender = 'female'\n",
    "\n",
    "    emotion_str = identifier[2]\n",
    "    if emotion_str == 'ps':\n",
    "        emotion_label = 'su'\n",
    "\n",
    "    elif emotion_str == 'sad':\n",
    "        emotion_label = emotion_str[0:2]\n",
    "        \n",
    "    else:\n",
    "        emotion_label = emotion_str[0]\n",
    "\n",
    "    data.append([emotion_label, gender, directory_loc, file])\n",
    "data = np.array(data)\n",
    "np.save('tess.npy', data)"
   ]
  },
  {
   "cell_type": "code",
   "execution_count": 2,
   "metadata": {},
   "outputs": [
    {
     "data": {
      "text/plain": [
       "array([['a', 'female', '\\\\data\\\\tess\\\\', 'OAF_back_angry.wav'],\n",
       "       ['d', 'female', '\\\\data\\\\tess\\\\', 'OAF_back_disgust.wav'],\n",
       "       ['f', 'female', '\\\\data\\\\tess\\\\', 'OAF_back_fear.wav'],\n",
       "       ...,\n",
       "       ['n', 'female', '\\\\data\\\\tess\\\\', 'YAF_youth_neutral.wav'],\n",
       "       ['su', 'female', '\\\\data\\\\tess\\\\', 'YAF_youth_ps.wav'],\n",
       "       ['sa', 'female', '\\\\data\\\\tess\\\\', 'YAF_youth_sad.wav']],\n",
       "      dtype='<U23')"
      ]
     },
     "execution_count": 2,
     "metadata": {},
     "output_type": "execute_result"
    }
   ],
   "source": [
    "data"
   ]
  }
 ],
 "metadata": {
  "interpreter": {
   "hash": "39d7a255d4176126bb60d58490ff3164cc3b659c87e283a77bc5e59f8812299c"
  },
  "kernelspec": {
   "display_name": "Python 3.9.2 64-bit",
   "language": "python",
   "name": "python3"
  },
  "language_info": {
   "codemirror_mode": {
    "name": "ipython",
    "version": 3
   },
   "file_extension": ".py",
   "mimetype": "text/x-python",
   "name": "python",
   "nbconvert_exporter": "python",
   "pygments_lexer": "ipython3",
   "version": "3.9.2"
  },
  "orig_nbformat": 4
 },
 "nbformat": 4,
 "nbformat_minor": 2
}

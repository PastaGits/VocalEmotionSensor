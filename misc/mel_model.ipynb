{
 "cells": [
  {
   "cell_type": "code",
   "execution_count": 1,
   "id": "60d3f7f5-7af4-4e13-8f85-a524eda1256f",
   "metadata": {},
   "outputs": [
    {
     "name": "stdout",
     "output_type": "stream",
     "text": [
      "done!\n",
      "done!\n",
      "done!\n",
      "done!\n"
     ]
    },
    {
     "data": {
      "text/plain": [
       "((28388, 12, 42), (28388, 1))"
      ]
     },
     "execution_count": 1,
     "metadata": {},
     "output_type": "execute_result"
    }
   ],
   "source": [
    "import h5py\n",
    "import librosa\n",
    "import numpy as np\n",
    "\n",
    "file = h5py.File('dataset.h5', 'r')\n",
    "\n",
    "\n",
    "labels = file['label'][:36406].squeeze()\n",
    "gender_labels = file['gender'].squeeze()\n",
    "print('done!')\n",
    "relevant_indexes =  np.where(gender_labels == 'male')\n",
    "\n",
    "print('done!')\n",
    "y = file['label'][relevant_indexes]\n",
    "print('done!')\n",
    "X = file['mel_spec'][relevant_indexes]\n",
    "print('done!')\n",
    "\n",
    "X.shape, y.shape"
   ]
  },
  {
   "cell_type": "code",
   "execution_count": 9,
   "id": "6b4caedd-91d9-42f3-9e00-97f1442e9276",
   "metadata": {},
   "outputs": [
    {
     "data": {
      "text/plain": [
       "((19019, 36, 42), (9369, 36, 42), (19019, 1), (9369, 1))"
      ]
     },
     "execution_count": 9,
     "metadata": {},
     "output_type": "execute_result"
    }
   ],
   "source": [
    "from sklearn.model_selection import train_test_split\n",
    "\n",
    "X_train, X_test, y_train, y_test = train_test_split(X, y, test_size=0.33, random_state=32)\n",
    "X_train.shape, X_test.shape, y_train.shape, y_test.shape"
   ]
  },
  {
   "cell_type": "code",
   "execution_count": 5,
   "id": "01201eaf-9923-4326-a475-b21eb264de24",
   "metadata": {},
   "outputs": [
    {
     "data": {
      "image/png": "[encoded data removed]",
      "text/plain": [
       "<Figure size 432x288 with 1 Axes>"
      ]
     },
     "metadata": {},
     "output_type": "display_data"
    },
    {
     "data": {
      "text/plain": [
       "array([[-21.60799 , -20.1454  , -19.92197 , ..., -18.386524, -19.197872,\n",
       "        -20.600376],\n",
       "       [-21.385508, -21.43161 , -22.03455 , ..., -21.67913 , -21.99818 ,\n",
       "        -23.29573 ],\n",
       "       [-19.734455, -19.57219 , -19.978783, ..., -20.062634, -19.429605,\n",
       "        -19.857994],\n",
       "       ...,\n",
       "       [-80.      , -80.      , -80.      , ..., -80.      , -80.      ,\n",
       "        -80.      ],\n",
       "       [-80.      , -80.      , -80.      , ..., -80.      , -80.      ,\n",
       "        -80.      ],\n",
       "       [-80.      , -80.      , -80.      , ..., -80.      , -80.      ,\n",
       "        -80.      ]], dtype=float32)"
      ]
     },
     "execution_count": 5,
     "metadata": {},
     "output_type": "execute_result"
    }
   ],
   "source": [
    "import librosa.display\n",
    "import matplotlib.pyplot as plt\n",
    "librosa.display.specshow(X_train[1])\n",
    "plt.show()\n",
    "X_train[0]"
   ]
  },
  {
   "cell_type": "code",
   "execution_count": 17,
   "id": "047ded05-455b-4685-99c5-383ba3e82b79",
   "metadata": {},
   "outputs": [
    {
     "name": "stdout",
     "output_type": "stream",
     "text": [
      "(36, 42)\n",
      "Model: \"sequential_4\"\n",
      "_________________________________________________________________\n",
      " Layer (type)                Output Shape              Param #   \n",
      "=================================================================\n",
      " reshape_4 (Reshape)         (None, 36, 42, 1)         0         \n",
      "                                                                 \n",
      " conv2d_16 (Conv2D)          (None, 18, 42, 16)        160       \n",
      "                                                                 \n",
      " dropout_7 (Dropout)         (None, 18, 42, 16)        0         \n",
      "                                                                 \n",
      " conv2d_17 (Conv2D)          (None, 9, 42, 64)         9280      \n",
      "                                                                 \n",
      " conv2d_18 (Conv2D)          (None, 5, 42, 64)         36928     \n",
      "                                                                 \n",
      " conv2d_19 (Conv2D)          (None, 5, 42, 128)        73856     \n",
      "                                                                 \n",
      " max_pooling2d_3 (MaxPooling  (None, 2, 42, 128)       0         \n",
      " 2D)                                                             \n",
      "                                                                 \n",
      " dropout_8 (Dropout)         (None, 2, 42, 128)        0         \n",
      "                                                                 \n",
      " flatten_3 (Flatten)         (None, 10752)             0         \n",
      "                                                                 \n",
      " dense_9 (Dense)             (None, 128)               1376384   \n",
      "                                                                 \n",
      " dense_10 (Dense)            (None, 64)                8256      \n",
      "                                                                 \n",
      " dense_11 (Dense)            (None, 6)                 390       \n",
      "                                                                 \n",
      "=================================================================\n",
      "Total params: 1,505,254\n",
      "Trainable params: 1,505,254\n",
      "Non-trainable params: 0\n",
      "_________________________________________________________________\n"
     ]
    }
   ],
   "source": [
    "import numpy as np\n",
    "import matplotlib.pyplot as plt\n",
    "import tensorflow as tf\n",
    "from keras.models import Sequential\n",
    "from keras.layers import Dense, BatchNormalizationV2\n",
    "from keras.layers import Flatten, Dropout\n",
    "from keras.layers import Conv2D, MaxPooling2D, Reshape\n",
    "from keras.callbacks import ModelCheckpoint, EarlyStopping\n",
    "from keras.optimizers import adam_v2\n",
    "import keras\n",
    "\n",
    "# import rms prop from keras\n",
    "\n",
    "\n",
    "es = EarlyStopping(monitor='val_loss', mode='min', verbose=1, patience=10)\n",
    "opt = adam_v2.Adam(learning_rate=0.00005)\n",
    "# model.compile(loss='categorical_crossentropy', optimizer=opt)\n",
    "\n",
    "feature_shape = X_train[0].shape\n",
    "print(feature_shape)\n",
    "model = Sequential()\n",
    "model.add(Reshape(target_shape=(\n",
    "    feature_shape[0], feature_shape[1], 1), input_shape=(feature_shape[0], feature_shape[1])))\n",
    "    \n",
    "model.add(Conv2D(16, (3, 3), activation='relu', strides=(2, 1), padding='same'))\n",
    "model.add(Dropout(0.2))\n",
    "model.add(Conv2D(32, (3, 3), activation='relu', strides=(2, 1), padding='same'))\n",
    "model.add(Conv2D(64, (3, 3), activation='relu', strides=(2, 1), padding='same'))\n",
    "# model.add(Dropout(0.2))\n",
    "model.add(Conv2D(128, (3, 3), activation='relu',\n",
    "          strides=(1, 1), padding='same'))\n",
    "# model.add(BatchNormalizationV2(axis=0))\n",
    "model.add(MaxPooling2D((2, 1)))\n",
    "model.add(Dropout(0.2))\n",
    "model.add(Flatten())\n",
    "# model.add(Dense(512, activation='relu'))\n",
    "# add batch normalization\n",
    "\n",
    "model.add(Dense(128, activation='relu'))\n",
    "model.add(Dense(64, activation='relu'))\n",
    "model.add(Dense(6, activation='softmax'))\n",
    "model.summary()\n",
    "model.compile(loss='sparse_categorical_crossentropy',\n",
    "              optimizer=opt, metrics=['accuracy'])\n"
   ]
  },
  {
   "cell_type": "code",
   "execution_count": 18,
   "id": "4e4ae786-ee7a-40ec-93df-8804c98f8840",
   "metadata": {},
   "outputs": [
    {
     "name": "stdout",
     "output_type": "stream",
     "text": [
      "Epoch 1/200\n",
      "38/38 [==============================] - 4s 79ms/step - loss: 1.6711 - accuracy: 0.2620 - val_loss: 1.5317 - val_accuracy: 0.3272\n",
      "Epoch 2/200\n",
      "38/38 [==============================] - 3s 73ms/step - loss: 1.5182 - accuracy: 0.3393 - val_loss: 1.5239 - val_accuracy: 0.3269\n",
      "Epoch 3/200\n",
      "38/38 [==============================] - 3s 70ms/step - loss: 1.4565 - accuracy: 0.3699 - val_loss: 1.4352 - val_accuracy: 0.3826\n",
      "Epoch 4/200\n",
      "38/38 [==============================] - 3s 70ms/step - loss: 1.4124 - accuracy: 0.3971 - val_loss: 1.3819 - val_accuracy: 0.4200\n",
      "Epoch 5/200\n",
      "38/38 [==============================] - 3s 70ms/step - loss: 1.3718 - accuracy: 0.4205 - val_loss: 1.3304 - val_accuracy: 0.4434\n",
      "Epoch 6/200\n",
      "38/38 [==============================] - 3s 71ms/step - loss: 1.3308 - accuracy: 0.4417 - val_loss: 1.2993 - val_accuracy: 0.4531\n",
      "Epoch 7/200\n",
      "38/38 [==============================] - 3s 71ms/step - loss: 1.2890 - accuracy: 0.4605 - val_loss: 1.2495 - val_accuracy: 0.4776\n",
      "Epoch 8/200\n",
      "38/38 [==============================] - 3s 71ms/step - loss: 1.2499 - accuracy: 0.4797 - val_loss: 1.2183 - val_accuracy: 0.4900\n",
      "Epoch 9/200\n",
      "38/38 [==============================] - 3s 71ms/step - loss: 1.2269 - accuracy: 0.4856 - val_loss: 1.1871 - val_accuracy: 0.5093\n",
      "Epoch 10/200\n",
      "38/38 [==============================] - 3s 72ms/step - loss: 1.2005 - accuracy: 0.4963 - val_loss: 1.1590 - val_accuracy: 0.5221\n",
      "Epoch 11/200\n",
      "38/38 [==============================] - 3s 72ms/step - loss: 1.1810 - accuracy: 0.5065 - val_loss: 1.1448 - val_accuracy: 0.5211\n",
      "Epoch 12/200\n",
      "38/38 [==============================] - 3s 71ms/step - loss: 1.1599 - accuracy: 0.5172 - val_loss: 1.1272 - val_accuracy: 0.5332\n",
      "Epoch 13/200\n",
      "38/38 [==============================] - 3s 71ms/step - loss: 1.1444 - accuracy: 0.5195 - val_loss: 1.1216 - val_accuracy: 0.5316\n",
      "Epoch 14/200\n",
      "38/38 [==============================] - 3s 71ms/step - loss: 1.1358 - accuracy: 0.5234 - val_loss: 1.1073 - val_accuracy: 0.5388\n",
      "Epoch 15/200\n",
      "38/38 [==============================] - 3s 71ms/step - loss: 1.1253 - accuracy: 0.5279 - val_loss: 1.0991 - val_accuracy: 0.5368\n",
      "Epoch 16/200\n",
      "38/38 [==============================] - 3s 72ms/step - loss: 1.1093 - accuracy: 0.5337 - val_loss: 1.0927 - val_accuracy: 0.5411\n",
      "Epoch 17/200\n",
      "38/38 [==============================] - 3s 67ms/step - loss: 1.1045 - accuracy: 0.5353 - val_loss: 1.0870 - val_accuracy: 0.5450\n",
      "Epoch 18/200\n",
      "38/38 [==============================] - 3s 72ms/step - loss: 1.0934 - accuracy: 0.5422 - val_loss: 1.0796 - val_accuracy: 0.5476\n",
      "Epoch 19/200\n",
      "38/38 [==============================] - 3s 72ms/step - loss: 1.0808 - accuracy: 0.5492 - val_loss: 1.0777 - val_accuracy: 0.5502\n",
      "Epoch 20/200\n",
      "38/38 [==============================] - 3s 72ms/step - loss: 1.0737 - accuracy: 0.5496 - val_loss: 1.0706 - val_accuracy: 0.5469\n",
      "Epoch 21/200\n",
      "38/38 [==============================] - 3s 72ms/step - loss: 1.0611 - accuracy: 0.5552 - val_loss: 1.0592 - val_accuracy: 0.5562\n",
      "Epoch 22/200\n",
      "38/38 [==============================] - 3s 71ms/step - loss: 1.0515 - accuracy: 0.5563 - val_loss: 1.0515 - val_accuracy: 0.5635\n",
      "Epoch 23/200\n",
      "38/38 [==============================] - 3s 72ms/step - loss: 1.0416 - accuracy: 0.5620 - val_loss: 1.0530 - val_accuracy: 0.5535\n",
      "Epoch 24/200\n",
      "38/38 [==============================] - 3s 72ms/step - loss: 1.0405 - accuracy: 0.5680 - val_loss: 1.0574 - val_accuracy: 0.5567\n",
      "Epoch 25/200\n",
      "38/38 [==============================] - 3s 71ms/step - loss: 1.0322 - accuracy: 0.5683 - val_loss: 1.0440 - val_accuracy: 0.5645\n",
      "Epoch 26/200\n",
      "38/38 [==============================] - 3s 72ms/step - loss: 1.0275 - accuracy: 0.5711 - val_loss: 1.0403 - val_accuracy: 0.5680\n",
      "Epoch 27/200\n",
      "38/38 [==============================] - 3s 71ms/step - loss: 1.0187 - accuracy: 0.5761 - val_loss: 1.0335 - val_accuracy: 0.5654\n",
      "Epoch 28/200\n",
      "38/38 [==============================] - 3s 71ms/step - loss: 1.0126 - accuracy: 0.5744 - val_loss: 1.0399 - val_accuracy: 0.5647\n",
      "Epoch 29/200\n",
      "38/38 [==============================] - 3s 71ms/step - loss: 1.0064 - accuracy: 0.5766 - val_loss: 1.0286 - val_accuracy: 0.5728\n",
      "Epoch 30/200\n",
      "38/38 [==============================] - 3s 71ms/step - loss: 1.0045 - accuracy: 0.5801 - val_loss: 1.0264 - val_accuracy: 0.5718\n",
      "Epoch 31/200\n",
      "38/38 [==============================] - 3s 71ms/step - loss: 0.9939 - accuracy: 0.5883 - val_loss: 1.0299 - val_accuracy: 0.5702\n",
      "Epoch 32/200\n",
      "38/38 [==============================] - 3s 71ms/step - loss: 0.9893 - accuracy: 0.5883 - val_loss: 1.0215 - val_accuracy: 0.5764\n",
      "Epoch 33/200\n",
      "38/38 [==============================] - 3s 71ms/step - loss: 0.9780 - accuracy: 0.5927 - val_loss: 1.0280 - val_accuracy: 0.5730\n",
      "Epoch 34/200\n",
      "38/38 [==============================] - 3s 73ms/step - loss: 0.9790 - accuracy: 0.5906 - val_loss: 1.0180 - val_accuracy: 0.5789\n",
      "Epoch 35/200\n",
      "38/38 [==============================] - 3s 72ms/step - loss: 0.9709 - accuracy: 0.5948 - val_loss: 1.0229 - val_accuracy: 0.5764\n",
      "Epoch 36/200\n",
      "38/38 [==============================] - 3s 72ms/step - loss: 0.9691 - accuracy: 0.5964 - val_loss: 1.0230 - val_accuracy: 0.5760\n",
      "Epoch 37/200\n",
      "38/38 [==============================] - 3s 72ms/step - loss: 0.9606 - accuracy: 0.5989 - val_loss: 1.0125 - val_accuracy: 0.5798\n",
      "Epoch 38/200\n",
      "38/38 [==============================] - 3s 71ms/step - loss: 0.9539 - accuracy: 0.6017 - val_loss: 1.0123 - val_accuracy: 0.5787\n",
      "Epoch 39/200\n",
      "38/38 [==============================] - 3s 72ms/step - loss: 0.9526 - accuracy: 0.6054 - val_loss: 1.0151 - val_accuracy: 0.5787\n",
      "Epoch 40/200\n",
      "38/38 [==============================] - 3s 72ms/step - loss: 0.9470 - accuracy: 0.6069 - val_loss: 1.0075 - val_accuracy: 0.5802\n",
      "Epoch 41/200\n",
      "38/38 [==============================] - 3s 72ms/step - loss: 0.9373 - accuracy: 0.6100 - val_loss: 1.0006 - val_accuracy: 0.5854\n",
      "Epoch 42/200\n",
      "38/38 [==============================] - 3s 72ms/step - loss: 0.9344 - accuracy: 0.6125 - val_loss: 1.0073 - val_accuracy: 0.5830\n",
      "Epoch 43/200\n",
      "38/38 [==============================] - 3s 71ms/step - loss: 0.9288 - accuracy: 0.6138 - val_loss: 1.0006 - val_accuracy: 0.5860\n",
      "Epoch 44/200\n",
      "38/38 [==============================] - 3s 71ms/step - loss: 0.9232 - accuracy: 0.6193 - val_loss: 0.9984 - val_accuracy: 0.5868\n",
      "Epoch 45/200\n",
      "38/38 [==============================] - 3s 72ms/step - loss: 0.9174 - accuracy: 0.6223 - val_loss: 1.0205 - val_accuracy: 0.5756\n",
      "Epoch 46/200\n",
      "38/38 [==============================] - 3s 72ms/step - loss: 0.9195 - accuracy: 0.6201 - val_loss: 1.0027 - val_accuracy: 0.5879\n",
      "Epoch 47/200\n",
      "38/38 [==============================] - 3s 72ms/step - loss: 0.9113 - accuracy: 0.6225 - val_loss: 1.0209 - val_accuracy: 0.5723\n",
      "Epoch 48/200\n",
      "38/38 [==============================] - 3s 72ms/step - loss: 0.9078 - accuracy: 0.6247 - val_loss: 1.0016 - val_accuracy: 0.5905\n",
      "Epoch 49/200\n",
      "38/38 [==============================] - 3s 72ms/step - loss: 0.9018 - accuracy: 0.6300 - val_loss: 0.9917 - val_accuracy: 0.5876\n",
      "Epoch 50/200\n",
      "38/38 [==============================] - 3s 72ms/step - loss: 0.8998 - accuracy: 0.6278 - val_loss: 0.9954 - val_accuracy: 0.5885\n",
      "Epoch 51/200\n",
      "38/38 [==============================] - 3s 72ms/step - loss: 0.8887 - accuracy: 0.6323 - val_loss: 1.0157 - val_accuracy: 0.5861\n",
      "Epoch 52/200\n",
      "38/38 [==============================] - 3s 71ms/step - loss: 0.8882 - accuracy: 0.6321 - val_loss: 1.0025 - val_accuracy: 0.5894\n",
      "Epoch 53/200\n",
      "38/38 [==============================] - 3s 71ms/step - loss: 0.8871 - accuracy: 0.6372 - val_loss: 0.9965 - val_accuracy: 0.5876\n",
      "Epoch 54/200\n",
      "38/38 [==============================] - 3s 72ms/step - loss: 0.8772 - accuracy: 0.6388 - val_loss: 0.9842 - val_accuracy: 0.5961\n",
      "Epoch 55/200\n",
      "38/38 [==============================] - 3s 72ms/step - loss: 0.8737 - accuracy: 0.6409 - val_loss: 0.9895 - val_accuracy: 0.5929\n",
      "Epoch 56/200\n",
      "38/38 [==============================] - 3s 72ms/step - loss: 0.8688 - accuracy: 0.6416 - val_loss: 0.9811 - val_accuracy: 0.5977\n",
      "Epoch 57/200\n",
      "38/38 [==============================] - 3s 72ms/step - loss: 0.8684 - accuracy: 0.6452 - val_loss: 1.0097 - val_accuracy: 0.5819\n",
      "Epoch 58/200\n",
      "38/38 [==============================] - 3s 72ms/step - loss: 0.8583 - accuracy: 0.6491 - val_loss: 1.0026 - val_accuracy: 0.5914\n",
      "Epoch 59/200\n",
      "38/38 [==============================] - 3s 73ms/step - loss: 0.8545 - accuracy: 0.6491 - val_loss: 0.9742 - val_accuracy: 0.6007\n",
      "Epoch 60/200\n",
      "38/38 [==============================] - 3s 72ms/step - loss: 0.8479 - accuracy: 0.6510 - val_loss: 0.9871 - val_accuracy: 0.5947\n",
      "Epoch 61/200\n",
      "38/38 [==============================] - 3s 72ms/step - loss: 0.8466 - accuracy: 0.6534 - val_loss: 0.9742 - val_accuracy: 0.6005\n",
      "Epoch 62/200\n",
      "38/38 [==============================] - 3s 72ms/step - loss: 0.8396 - accuracy: 0.6583 - val_loss: 0.9762 - val_accuracy: 0.6025\n",
      "Epoch 63/200\n",
      "38/38 [==============================] - 3s 74ms/step - loss: 0.8326 - accuracy: 0.6588 - val_loss: 0.9810 - val_accuracy: 0.5989\n",
      "Epoch 64/200\n",
      "38/38 [==============================] - 3s 73ms/step - loss: 0.8316 - accuracy: 0.6607 - val_loss: 0.9914 - val_accuracy: 0.5960\n",
      "Epoch 65/200\n",
      "38/38 [==============================] - 3s 73ms/step - loss: 0.8255 - accuracy: 0.6640 - val_loss: 0.9935 - val_accuracy: 0.5968\n",
      "Epoch 66/200\n",
      "38/38 [==============================] - 3s 73ms/step - loss: 0.8244 - accuracy: 0.6644 - val_loss: 0.9905 - val_accuracy: 0.5933\n",
      "Epoch 67/200\n",
      "38/38 [==============================] - 3s 75ms/step - loss: 0.8170 - accuracy: 0.6674 - val_loss: 0.9775 - val_accuracy: 0.6015\n",
      "Epoch 68/200\n",
      "38/38 [==============================] - 3s 70ms/step - loss: 0.8107 - accuracy: 0.6726 - val_loss: 0.9769 - val_accuracy: 0.6010\n",
      "Epoch 69/200\n",
      "38/38 [==============================] - 3s 68ms/step - loss: 0.8038 - accuracy: 0.6725 - val_loss: 0.9928 - val_accuracy: 0.5961\n",
      "Epoch 69: early stopping\n"
     ]
    }
   ],
   "source": [
    "cnnhistory=model.fit(X_train, y_train, batch_size=512, epochs=200,validation_data=(X_test, y_test), callbacks=[es], verbose=1)\n"
   ]
  },
  {
   "cell_type": "code",
   "execution_count": 19,
   "id": "6c37114e-2008-433a-8a49-3ab6e2e66f15",
   "metadata": {},
   "outputs": [
    {
     "data": {
      "image/png": "[encoded data removed]",
      "text/plain": [
       "<Figure size 432x288 with 1 Axes>"
      ]
     },
     "metadata": {
      "needs_background": "light"
     },
     "output_type": "display_data"
    }
   ],
   "source": [
    "plt.plot(cnnhistory.history['loss'])\n",
    "plt.plot(cnnhistory.history['val_loss'])\n",
    "plt.title('model loss')\n",
    "plt.ylabel('loss')\n",
    "plt.xlabel('epoch')\n",
    "plt.legend(['train', 'test'], loc='upper left')\n",
    "plt.show()"
   ]
  },
  {
   "cell_type": "code",
   "execution_count": 20,
   "id": "171ad9b6-5843-44e6-ae33-c19b493722fe",
   "metadata": {},
   "outputs": [
    {
     "data": {
      "image/png": "[encoded data removed]",
      "text/plain": [
       "<Figure size 432x288 with 1 Axes>"
      ]
     },
     "metadata": {
      "needs_background": "light"
     },
     "output_type": "display_data"
    }
   ],
   "source": [
    "plt.plot(cnnhistory.history['accuracy'])\n",
    "plt.plot(cnnhistory.history['val_accuracy'])\n",
    "plt.title('model accuracy')\n",
    "plt.ylabel('acc')\n",
    "plt.xlabel('epoch')\n",
    "plt.legend(['train', 'test'], loc='upper left')\n",
    "plt.show()"
   ]
  },
  {
   "cell_type": "code",
   "execution_count": 41,
   "id": "2acfbba3-42d1-434c-a1d9-814c38da5439",
   "metadata": {},
   "outputs": [],
   "source": [
    "cnnhistory.model.save('cnn_60.h5')"
   ]
  },
  {
   "cell_type": "code",
   "execution_count": null,
   "id": "353fd8ce",
   "metadata": {},
   "outputs": [],
   "source": []
  }
 ],
 "metadata": {
  "interpreter": {
   "hash": "8e9a847315198e1db6c3e64fe9ef1c8f4cc1666ddba368d2a78c3257c3b63773"
  },
  "kernelspec": {
   "display_name": "Python 3.9.2 64-bit",
   "language": "python",
   "name": "python3"
  },
  "language_info": {
   "codemirror_mode": {
    "name": "ipython",
    "version": 3
   },
   "file_extension": ".py",
   "mimetype": "text/x-python",
   "name": "python",
   "nbconvert_exporter": "python",
   "pygments_lexer": "ipython3",
   "version": "3.9.2"
  }
 },
 "nbformat": 4,
 "nbformat_minor": 5
}

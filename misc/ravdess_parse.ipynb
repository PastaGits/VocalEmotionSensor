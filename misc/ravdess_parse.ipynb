{
 "cells": [
  {
   "cell_type": "code",
   "execution_count": 1,
   "metadata": {},
   "outputs": [],
   "source": [
    "import os\n",
    "import numpy as np\n",
    "\n",
    "pwd = os.getcwd()\n",
    "parent_dir = '\\\\data\\\\ravdess'\n",
    "\n",
    "actor_folders = os.listdir(pwd + parent_dir)\n",
    "\n",
    "\n",
    "label_dict = {'01': 'neutral', '02': 'calm', '03': 'happy', '04': 'sad',\n",
    "              '05': 'angry', '06': 'fearful', '07': 'disgust', '08': 'surprised'}\n",
    "\n",
    "data = []\n",
    "for folder_dir in actor_folders:\n",
    "\n",
    "    directory_loc = parent_dir + '\\\\' + folder_dir + '\\\\'\n",
    "    audio_files = os.listdir(pwd + directory_loc)\n",
    "\n",
    "    for file in audio_files:\n",
    "\n",
    "        numerical_identifier = file.split('.')[0].split('-')\n",
    "\n",
    "        emotion_id  = numerical_identifier[2]\n",
    "        actor_id = numerical_identifier[6]\n",
    "        \n",
    "        sentence_take_id = '-'.join([numerical_identifier[4],numerical_identifier[5]])\n",
    "        gender = ('male', 'female')[ int(int(actor_id)%2 != 0)]\n",
    "        \n",
    "        emotion_str = label_dict[emotion_id]\n",
    "        if emotion_id == '04' or emotion_id=='08':\n",
    "            emotion_label = emotion_str[0:2]\n",
    "        else:\n",
    "            emotion_label = emotion_str[0]\n",
    "\n",
    "        data.append([emotion_label, gender, directory_loc, file]) "
   ]
  },
  {
   "cell_type": "code",
   "execution_count": 2,
   "metadata": {},
   "outputs": [],
   "source": [
    "data = np.array(data)\n",
    "np.save('ravdess.npy', data)"
   ]
  }
 ],
 "metadata": {
  "interpreter": {
   "hash": "39d7a255d4176126bb60d58490ff3164cc3b659c87e283a77bc5e59f8812299c"
  },
  "kernelspec": {
   "display_name": "Python 3.9.2 64-bit",
   "language": "python",
   "name": "python3"
  },
  "language_info": {
   "codemirror_mode": {
    "name": "ipython",
    "version": 3
   },
   "file_extension": ".py",
   "mimetype": "text/x-python",
   "name": "python",
   "nbconvert_exporter": "python",
   "pygments_lexer": "ipython3",
   "version": "3.9.2"
  },
  "orig_nbformat": 4
 },
 "nbformat": 4,
 "nbformat_minor": 2
}

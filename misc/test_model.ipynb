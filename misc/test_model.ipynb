{
 "cells": [
  {
   "cell_type": "code",
   "execution_count": 1,
   "id": "60d3f7f5-7af4-4e13-8f85-a524eda1256f",
   "metadata": {},
   "outputs": [
    {
     "name": "stdout",
     "output_type": "stream",
     "text": [
      "done!\n",
      "done!\n",
      "done!\n",
      "done!\n"
     ]
    },
    {
     "data": {
      "text/plain": [
       "((28388, 12, 42), (28388, 1))"
      ]
     },
     "execution_count": 1,
     "metadata": {},
     "output_type": "execute_result"
    }
   ],
   "source": [
    "import h5py\n",
    "import librosa\n",
    "import numpy as np\n",
    "\n",
    "file = h5py.File('dataset.h5', 'r')\n",
    "#label_dict = {\"['n']\": 0, \"['c']\": 1, \"['h']\": 2, \"['s']\": 3,\n",
    " #             \"['a']\": 4, \"['f']\": 5, \"['d']\": 6, \"['su']\": 7}\n",
    "\n",
    "labels = file['label'][:36406].squeeze()\n",
    "print('done!')\n",
    "relevant_indexes =  np.where((labels != 6) & (labels != 7))\n",
    "\n",
    "print('done!')\n",
    "y = file['label'][relevant_indexes]\n",
    "print('done!')\n",
    "X = file['mfcc'][relevant_indexes]\n",
    "print('done!')\n",
    "\n",
    "X.shape, y.shape"
   ]
  },
  {
   "cell_type": "code",
   "execution_count": null,
   "id": "3bf971c5",
   "metadata": {},
   "outputs": [],
   "source": [
    "# extract delta and double delta features using librosa\n",
    "for i in range(X.shape[0]):\n",
    "    X_delta = librosa.feature.delta(X[i])\n",
    "    X_delta2 = librosa.feature.delta(X[i], order=2)\n",
    "    # np.vstack all the X, X_delta and X_delta2 \n",
    "    X_deltas = np.vstack([X, X_delta, X_delta2])\n",
    "    X_deltas.shape"
   ]
  },
  {
   "cell_type": "code",
   "execution_count": 43,
   "id": "6b4caedd-91d9-42f3-9e00-97f1442e9276",
   "metadata": {},
   "outputs": [
    {
     "data": {
      "text/plain": [
       "((19019, 12, 42), (9369, 12, 42), (19019, 1), (9369, 1))"
      ]
     },
     "execution_count": 43,
     "metadata": {},
     "output_type": "execute_result"
    }
   ],
   "source": [
    "from sklearn.model_selection import train_test_split\n",
    "\n",
    "X_train, X_test, y_train, y_test = train_test_split(X, y, test_size=0.33, random_state=32)\n",
    "X_train.shape, X_test.shape, y_train.shape, y_test.shape"
   ]
  },
  {
   "cell_type": "code",
   "execution_count": 5,
   "id": "01201eaf-9923-4326-a475-b21eb264de24",
   "metadata": {},
   "outputs": [
    {
     "data": {
      "image/png": "[encoded data removed]",
      "text/plain": [
       "<Figure size 432x288 with 1 Axes>"
      ]
     },
     "metadata": {},
     "output_type": "display_data"
    },
    {
     "data": {
      "text/plain": [
       "array([[-21.60799 , -20.1454  , -19.92197 , ..., -18.386524, -19.197872,\n",
       "        -20.600376],\n",
       "       [-21.385508, -21.43161 , -22.03455 , ..., -21.67913 , -21.99818 ,\n",
       "        -23.29573 ],\n",
       "       [-19.734455, -19.57219 , -19.978783, ..., -20.062634, -19.429605,\n",
       "        -19.857994],\n",
       "       ...,\n",
       "       [-80.      , -80.      , -80.      , ..., -80.      , -80.      ,\n",
       "        -80.      ],\n",
       "       [-80.      , -80.      , -80.      , ..., -80.      , -80.      ,\n",
       "        -80.      ],\n",
       "       [-80.      , -80.      , -80.      , ..., -80.      , -80.      ,\n",
       "        -80.      ]], dtype=float32)"
      ]
     },
     "execution_count": 5,
     "metadata": {},
     "output_type": "execute_result"
    }
   ],
   "source": [
    "import librosa.display\n",
    "import matplotlib.pyplot as plt\n",
    "librosa.display.specshow(X_train[1])\n",
    "plt.show()\n",
    "X_train[0]"
   ]
  },
  {
   "cell_type": "code",
   "execution_count": 44,
   "id": "047ded05-455b-4685-99c5-383ba3e82b79",
   "metadata": {},
   "outputs": [
    {
     "name": "stdout",
     "output_type": "stream",
     "text": [
      "(12, 42)\n",
      "Model: \"sequential_15\"\n",
      "_________________________________________________________________\n",
      " Layer (type)                Output Shape              Param #   \n",
      "=================================================================\n",
      " reshape_15 (Reshape)        (None, 128, 42, 1)        0         \n",
      "                                                                 \n",
      " conv2d_59 (Conv2D)          (None, 64, 42, 16)        160       \n",
      "                                                                 \n",
      " dropout_22 (Dropout)        (None, 64, 42, 16)        0         \n",
      "                                                                 \n",
      " conv2d_60 (Conv2D)          (None, 32, 42, 32)        4640      \n",
      "                                                                 \n",
      " conv2d_61 (Conv2D)          (None, 16, 42, 64)        18496     \n",
      "                                                                 \n",
      " conv2d_62 (Conv2D)          (None, 16, 42, 128)       73856     \n",
      "                                                                 \n",
      " max_pooling2d_14 (MaxPoolin  (None, 8, 42, 128)       0         \n",
      " g2D)                                                            \n",
      "                                                                 \n",
      " dropout_23 (Dropout)        (None, 8, 42, 128)        0         \n",
      "                                                                 \n",
      " flatten_14 (Flatten)        (None, 43008)             0         \n",
      "                                                                 \n",
      " dense_42 (Dense)            (None, 128)               5505152   \n",
      "                                                                 \n",
      " dense_43 (Dense)            (None, 64)                8256      \n",
      "                                                                 \n",
      " dense_44 (Dense)            (None, 6)                 390       \n",
      "                                                                 \n",
      "=================================================================\n",
      "Total params: 5,610,950\n",
      "Trainable params: 5,610,950\n",
      "Non-trainable params: 0\n",
      "_________________________________________________________________\n"
     ]
    }
   ],
   "source": [
    "import numpy as np\n",
    "import matplotlib.pyplot as plt\n",
    "import tensorflow as tf\n",
    "from keras.models import Sequential\n",
    "from keras.layers import Dense\n",
    "from keras.layers import Flatten, Dropout\n",
    "from keras.layers import Conv2D, MaxPooling2D, Reshape\n",
    "from keras.callbacks import ModelCheckpoint, EarlyStopping\n",
    "from keras.optimizers import adam_v2\n",
    "import keras\n",
    "\n",
    "# import rms prop from keras\n",
    "\n",
    "\n",
    "es = EarlyStopping(monitor='val_loss', mode='min', verbose=1, patience=10)\n",
    "opt = adam_v2.Adam(learning_rate=0.0001)\n",
    "# model.compile(loss='categorical_crossentropy', optimizer=opt)\n",
    "\n",
    "feature_shape = X_train[0].shape\n",
    "print(feature_shape)\n",
    "model = Sequential()\n",
    "model.add(Reshape(target_shape=(\n",
    "    feature_shape[0], feature_shape[1], 1), input_shape=(feature_shape[0], feature_shape[1])))\n",
    "    \n",
    "model.add(Conv2D(16, (3, 3), activation='relu', strides=(2, 1), padding='same'))\n",
    "model.add(Dropout(0.2))\n",
    "model.add(Conv2D(32, (3, 3), activation='relu', strides=(2, 1), padding='same'))\n",
    "model.add(Conv2D(64, (3, 3), activation='relu', strides=(2, 1), padding='same'))\n",
    "# model.add(Dropout(0.2))\n",
    "model.add(Conv2D(128, (3, 3), activation='relu',\n",
    "          strides=(1, 1), padding='same'))\n",
    "model.add(MaxPooling2D((2, 1)))\n",
    "model.add(Dropout(0.2))\n",
    "model.add(Flatten())\n",
    "# model.add(Dense(512, activation='relu'))\n",
    "model.add(Dense(128, activation='relu'))\n",
    "model.add(Dense(64, activation='relu'))\n",
    "model.add(Dense(6, activation='softmax'))\n",
    "model.summary()\n",
    "model.compile(loss='sparse_categorical_crossentropy',\n",
    "              optimizer=opt, metrics=['accuracy'])\n"
   ]
  },
  {
   "cell_type": "code",
   "execution_count": 38,
   "id": "4e4ae786-ee7a-40ec-93df-8804c98f8840",
   "metadata": {},
   "outputs": [
    {
     "name": "stdout",
     "output_type": "stream",
     "text": [
      "Epoch 1/200\n",
      "38/38 [==============================] - 7s 182ms/step - loss: 1.9538 - accuracy: 0.2094 - val_loss: 1.6467 - val_accuracy: 0.2695\n",
      "Epoch 2/200\n",
      "38/38 [==============================] - 7s 177ms/step - loss: 1.6400 - accuracy: 0.2492 - val_loss: 1.6193 - val_accuracy: 0.2213\n",
      "Epoch 3/200\n",
      "38/38 [==============================] - 7s 177ms/step - loss: 1.5756 - accuracy: 0.3086 - val_loss: 1.6069 - val_accuracy: 0.2452\n",
      "Epoch 4/200\n",
      "38/38 [==============================] - 7s 176ms/step - loss: 1.5093 - accuracy: 0.3560 - val_loss: 1.5635 - val_accuracy: 0.3299\n",
      "Epoch 5/200\n",
      "38/38 [==============================] - 7s 176ms/step - loss: 1.4202 - accuracy: 0.4193 - val_loss: 1.4341 - val_accuracy: 0.4210\n",
      "Epoch 6/200\n",
      "38/38 [==============================] - 7s 178ms/step - loss: 1.3666 - accuracy: 0.4394 - val_loss: 1.4402 - val_accuracy: 0.4238\n",
      "Epoch 7/200\n",
      "38/38 [==============================] - 7s 179ms/step - loss: 1.3198 - accuracy: 0.4590 - val_loss: 1.4325 - val_accuracy: 0.4449\n",
      "Epoch 8/200\n",
      "38/38 [==============================] - 7s 179ms/step - loss: 1.2891 - accuracy: 0.4723 - val_loss: 1.4514 - val_accuracy: 0.4231\n",
      "Epoch 9/200\n",
      "38/38 [==============================] - 7s 179ms/step - loss: 1.2600 - accuracy: 0.4809 - val_loss: 1.4187 - val_accuracy: 0.4353\n",
      "Epoch 10/200\n",
      "38/38 [==============================] - 7s 179ms/step - loss: 1.2415 - accuracy: 0.4886 - val_loss: 1.4069 - val_accuracy: 0.4386\n",
      "Epoch 11/200\n",
      "38/38 [==============================] - 7s 181ms/step - loss: 1.2179 - accuracy: 0.4961 - val_loss: 1.4598 - val_accuracy: 0.4285\n",
      "Epoch 12/200\n",
      "38/38 [==============================] - 7s 191ms/step - loss: 1.2115 - accuracy: 0.4967 - val_loss: 1.3827 - val_accuracy: 0.4274\n",
      "Epoch 13/200\n",
      "38/38 [==============================] - 7s 187ms/step - loss: 1.2036 - accuracy: 0.4997 - val_loss: 1.2424 - val_accuracy: 0.5041\n",
      "Epoch 14/200\n",
      "38/38 [==============================] - 7s 185ms/step - loss: 1.1888 - accuracy: 0.5067 - val_loss: 1.3273 - val_accuracy: 0.4781\n",
      "Epoch 15/200\n",
      "38/38 [==============================] - 7s 186ms/step - loss: 1.1672 - accuracy: 0.5139 - val_loss: 1.2348 - val_accuracy: 0.4946\n",
      "Epoch 16/200\n",
      "38/38 [==============================] - 7s 185ms/step - loss: 1.1517 - accuracy: 0.5221 - val_loss: 1.3534 - val_accuracy: 0.4578\n",
      "Epoch 17/200\n",
      "38/38 [==============================] - 7s 177ms/step - loss: 1.1424 - accuracy: 0.5258 - val_loss: 1.2485 - val_accuracy: 0.4847\n",
      "Epoch 18/200\n",
      "38/38 [==============================] - 7s 185ms/step - loss: 1.1259 - accuracy: 0.5322 - val_loss: 1.2097 - val_accuracy: 0.4997\n",
      "Epoch 19/200\n",
      "38/38 [==============================] - 7s 184ms/step - loss: 1.1242 - accuracy: 0.5307 - val_loss: 1.1973 - val_accuracy: 0.5038\n",
      "Epoch 20/200\n",
      "38/38 [==============================] - 7s 184ms/step - loss: 1.1115 - accuracy: 0.5373 - val_loss: 1.2359 - val_accuracy: 0.4929\n",
      "Epoch 21/200\n",
      "38/38 [==============================] - 7s 182ms/step - loss: 1.0996 - accuracy: 0.5421 - val_loss: 1.1657 - val_accuracy: 0.5046\n",
      "Epoch 22/200\n",
      "38/38 [==============================] - 7s 184ms/step - loss: 1.0875 - accuracy: 0.5472 - val_loss: 1.1625 - val_accuracy: 0.5058\n",
      "Epoch 23/200\n",
      "38/38 [==============================] - 7s 185ms/step - loss: 1.0746 - accuracy: 0.5544 - val_loss: 1.1358 - val_accuracy: 0.5188\n",
      "Epoch 24/200\n",
      "38/38 [==============================] - 7s 181ms/step - loss: 1.0695 - accuracy: 0.5544 - val_loss: 1.1250 - val_accuracy: 0.5274\n",
      "Epoch 25/200\n",
      "38/38 [==============================] - 7s 183ms/step - loss: 1.0586 - accuracy: 0.5638 - val_loss: 1.1170 - val_accuracy: 0.5313\n",
      "Epoch 26/200\n",
      "38/38 [==============================] - 7s 188ms/step - loss: 1.0480 - accuracy: 0.5640 - val_loss: 1.1681 - val_accuracy: 0.5175\n",
      "Epoch 27/200\n",
      "38/38 [==============================] - 7s 180ms/step - loss: 1.0419 - accuracy: 0.5666 - val_loss: 1.0992 - val_accuracy: 0.5336\n",
      "Epoch 28/200\n",
      "38/38 [==============================] - 7s 181ms/step - loss: 1.0308 - accuracy: 0.5740 - val_loss: 1.1091 - val_accuracy: 0.5330\n",
      "Epoch 29/200\n",
      "38/38 [==============================] - 7s 180ms/step - loss: 1.0268 - accuracy: 0.5764 - val_loss: 1.1378 - val_accuracy: 0.5212\n",
      "Epoch 30/200\n",
      "38/38 [==============================] - 7s 181ms/step - loss: 1.0023 - accuracy: 0.5892 - val_loss: 1.0709 - val_accuracy: 0.5450\n",
      "Epoch 31/200\n",
      "38/38 [==============================] - 7s 182ms/step - loss: 1.0016 - accuracy: 0.5894 - val_loss: 1.0830 - val_accuracy: 0.5404\n",
      "Epoch 32/200\n",
      "38/38 [==============================] - 7s 182ms/step - loss: 0.9878 - accuracy: 0.5966 - val_loss: 1.0462 - val_accuracy: 0.5585\n",
      "Epoch 33/200\n",
      "38/38 [==============================] - 7s 180ms/step - loss: 0.9766 - accuracy: 0.6002 - val_loss: 1.0520 - val_accuracy: 0.5501\n",
      "Epoch 34/200\n",
      "38/38 [==============================] - 7s 181ms/step - loss: 0.9741 - accuracy: 0.5970 - val_loss: 1.0802 - val_accuracy: 0.5323\n",
      "Epoch 35/200\n",
      "38/38 [==============================] - 7s 180ms/step - loss: 0.9596 - accuracy: 0.6083 - val_loss: 1.0763 - val_accuracy: 0.5468\n",
      "Epoch 36/200\n",
      "38/38 [==============================] - 7s 180ms/step - loss: 0.9488 - accuracy: 0.6140 - val_loss: 1.0361 - val_accuracy: 0.5581\n",
      "Epoch 37/200\n",
      "38/38 [==============================] - 7s 181ms/step - loss: 0.9417 - accuracy: 0.6170 - val_loss: 1.0188 - val_accuracy: 0.5712\n",
      "Epoch 38/200\n",
      "38/38 [==============================] - 7s 181ms/step - loss: 0.9367 - accuracy: 0.6172 - val_loss: 1.0235 - val_accuracy: 0.5707\n",
      "Epoch 39/200\n",
      "38/38 [==============================] - 7s 182ms/step - loss: 0.9275 - accuracy: 0.6203 - val_loss: 1.0339 - val_accuracy: 0.5608\n",
      "Epoch 40/200\n",
      "38/38 [==============================] - 7s 181ms/step - loss: 0.9256 - accuracy: 0.6234 - val_loss: 1.0146 - val_accuracy: 0.5755\n",
      "Epoch 41/200\n",
      "38/38 [==============================] - 7s 181ms/step - loss: 0.9150 - accuracy: 0.6256 - val_loss: 0.9845 - val_accuracy: 0.5905\n",
      "Epoch 42/200\n",
      "38/38 [==============================] - 7s 181ms/step - loss: 0.9038 - accuracy: 0.6327 - val_loss: 0.9776 - val_accuracy: 0.5924\n",
      "Epoch 43/200\n",
      "38/38 [==============================] - 7s 182ms/step - loss: 0.8982 - accuracy: 0.6326 - val_loss: 0.9955 - val_accuracy: 0.5775\n",
      "Epoch 44/200\n",
      "38/38 [==============================] - 7s 181ms/step - loss: 0.8883 - accuracy: 0.6370 - val_loss: 0.9825 - val_accuracy: 0.5891\n",
      "Epoch 45/200\n",
      "38/38 [==============================] - 7s 181ms/step - loss: 0.8842 - accuracy: 0.6425 - val_loss: 0.9810 - val_accuracy: 0.5908\n",
      "Epoch 46/200\n",
      "38/38 [==============================] - 7s 181ms/step - loss: 0.8728 - accuracy: 0.6465 - val_loss: 0.9907 - val_accuracy: 0.5810\n",
      "Epoch 47/200\n",
      "38/38 [==============================] - 7s 180ms/step - loss: 0.8708 - accuracy: 0.6479 - val_loss: 0.9635 - val_accuracy: 0.5977\n",
      "Epoch 48/200\n",
      "38/38 [==============================] - 7s 181ms/step - loss: 0.8573 - accuracy: 0.6549 - val_loss: 0.9627 - val_accuracy: 0.5995\n",
      "Epoch 49/200\n",
      "38/38 [==============================] - 7s 180ms/step - loss: 0.8484 - accuracy: 0.6574 - val_loss: 0.9560 - val_accuracy: 0.5988\n",
      "Epoch 50/200\n",
      "38/38 [==============================] - 7s 181ms/step - loss: 0.8410 - accuracy: 0.6598 - val_loss: 0.9748 - val_accuracy: 0.5947\n",
      "Epoch 51/200\n",
      "38/38 [==============================] - 7s 181ms/step - loss: 0.8343 - accuracy: 0.6643 - val_loss: 0.9732 - val_accuracy: 0.5931\n",
      "Epoch 52/200\n",
      "38/38 [==============================] - 7s 181ms/step - loss: 0.8345 - accuracy: 0.6655 - val_loss: 0.9775 - val_accuracy: 0.5914\n",
      "Epoch 53/200\n",
      "38/38 [==============================] - 7s 181ms/step - loss: 0.8159 - accuracy: 0.6727 - val_loss: 0.9602 - val_accuracy: 0.6012\n",
      "Epoch 54/200\n",
      "38/38 [==============================] - 7s 180ms/step - loss: 0.8124 - accuracy: 0.6719 - val_loss: 0.9530 - val_accuracy: 0.6102\n",
      "Epoch 55/200\n",
      "38/38 [==============================] - 7s 181ms/step - loss: 0.8064 - accuracy: 0.6746 - val_loss: 0.9483 - val_accuracy: 0.6087\n",
      "Epoch 56/200\n",
      "38/38 [==============================] - 7s 180ms/step - loss: 0.8015 - accuracy: 0.6781 - val_loss: 0.9444 - val_accuracy: 0.6106\n",
      "Epoch 57/200\n",
      "38/38 [==============================] - 7s 180ms/step - loss: 0.7898 - accuracy: 0.6842 - val_loss: 0.9514 - val_accuracy: 0.6069\n",
      "Epoch 58/200\n",
      "38/38 [==============================] - 7s 180ms/step - loss: 0.7765 - accuracy: 0.6838 - val_loss: 0.9564 - val_accuracy: 0.6045\n",
      "Epoch 59/200\n",
      "38/38 [==============================] - 7s 185ms/step - loss: 0.7742 - accuracy: 0.6871 - val_loss: 0.9578 - val_accuracy: 0.6033\n",
      "Epoch 60/200\n",
      "38/38 [==============================] - 7s 188ms/step - loss: 0.7678 - accuracy: 0.6951 - val_loss: 0.9611 - val_accuracy: 0.6067\n",
      "Epoch 61/200\n",
      "38/38 [==============================] - 7s 188ms/step - loss: 0.7512 - accuracy: 0.6996 - val_loss: 0.9455 - val_accuracy: 0.6172\n",
      "Epoch 62/200\n",
      "38/38 [==============================] - 7s 188ms/step - loss: 0.7444 - accuracy: 0.7060 - val_loss: 0.9616 - val_accuracy: 0.6120\n",
      "Epoch 63/200\n",
      "38/38 [==============================] - 7s 186ms/step - loss: 0.7438 - accuracy: 0.7052 - val_loss: 0.9649 - val_accuracy: 0.6098\n",
      "Epoch 64/200\n",
      "38/38 [==============================] - 7s 178ms/step - loss: 0.7279 - accuracy: 0.7130 - val_loss: 0.9638 - val_accuracy: 0.6108\n",
      "Epoch 65/200\n",
      "38/38 [==============================] - 7s 174ms/step - loss: 0.7172 - accuracy: 0.7148 - val_loss: 0.9830 - val_accuracy: 0.6082\n",
      "Epoch 66/200\n",
      "38/38 [==============================] - 7s 174ms/step - loss: 0.7241 - accuracy: 0.7128 - val_loss: 0.9739 - val_accuracy: 0.6037\n",
      "Epoch 66: early stopping\n"
     ]
    }
   ],
   "source": [
    "cnnhistory=model.fit(X_train, y_train, batch_size=512, epochs=200,validation_data=(X_test, y_test), callbacks=[es], verbose=1)\n"
   ]
  },
  {
   "cell_type": "code",
   "execution_count": 39,
   "id": "6c37114e-2008-433a-8a49-3ab6e2e66f15",
   "metadata": {},
   "outputs": [
    {
     "data": {
      "image/png": "[encoded data removed]",
      "text/plain": [
       "<Figure size 432x288 with 1 Axes>"
      ]
     },
     "metadata": {
      "needs_background": "light"
     },
     "output_type": "display_data"
    }
   ],
   "source": [
    "plt.plot(cnnhistory.history['loss'])\n",
    "plt.plot(cnnhistory.history['val_loss'])\n",
    "plt.title('model loss')\n",
    "plt.ylabel('loss')\n",
    "plt.xlabel('epoch')\n",
    "plt.legend(['train', 'test'], loc='upper left')\n",
    "plt.show()"
   ]
  },
  {
   "cell_type": "code",
   "execution_count": 40,
   "id": "171ad9b6-5843-44e6-ae33-c19b493722fe",
   "metadata": {},
   "outputs": [
    {
     "data": {
      "image/png": "[encoded data removed]",
      "text/plain": [
       "<Figure size 432x288 with 1 Axes>"
      ]
     },
     "metadata": {
      "needs_background": "light"
     },
     "output_type": "display_data"
    }
   ],
   "source": [
    "plt.plot(cnnhistory.history['accuracy'])\n",
    "plt.plot(cnnhistory.history['val_accuracy'])\n",
    "plt.title('model accuracy')\n",
    "plt.ylabel('acc')\n",
    "plt.xlabel('epoch')\n",
    "plt.legend(['train', 'test'], loc='upper left')\n",
    "plt.show()"
   ]
  },
  {
   "cell_type": "code",
   "execution_count": 41,
   "id": "2acfbba3-42d1-434c-a1d9-814c38da5439",
   "metadata": {},
   "outputs": [],
   "source": [
    "cnnhistory.model.save('cnn_60.h5')"
   ]
  },
  {
   "cell_type": "code",
   "execution_count": null,
   "id": "353fd8ce",
   "metadata": {},
   "outputs": [],
   "source": []
  }
 ],
 "metadata": {
  "interpreter": {
   "hash": "8e9a847315198e1db6c3e64fe9ef1c8f4cc1666ddba368d2a78c3257c3b63773"
  },
  "kernelspec": {
   "display_name": "Python 3.9.2 64-bit",
   "language": "python",
   "name": "python3"
  },
  "language_info": {
   "codemirror_mode": {
    "name": "ipython",
    "version": 3
   },
   "file_extension": ".py",
   "mimetype": "text/x-python",
   "name": "python",
   "nbconvert_exporter": "python",
   "pygments_lexer": "ipython3",
   "version": "3.9.2"
  }
 },
 "nbformat": 4,
 "nbformat_minor": 5
}

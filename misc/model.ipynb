{
 "cells": [
  {
   "cell_type": "code",
   "execution_count": null,
   "metadata": {},
   "outputs": [],
   "source": [
    "import numpy as np\n",
    "import pandas as pd\n",
    "import tensorflow as tf\n",
    "import matplotlib.pyplot as plt\n",
    "import keras \n",
    "import h5py\n",
    "import librosa.display\n",
    "f = h5py.File('dataset.hdf5', 'r')"
   ]
  },
  {
   "cell_type": "code",
   "execution_count": 30,
   "metadata": {},
   "outputs": [],
   "source": [
    "X, y = f['mfcc'][:1000], f['label'][:1000]\n",
    "sr, hop_size = f.attrs['sample_rate'], f.attrs['hop_size']\n",
    "g = f['gender']"
   ]
  },
  {
   "cell_type": "code",
   "execution_count": null,
   "metadata": {},
   "outputs": [],
   "source": [
    "def plot_spec(y, sr, hop_size, y_axis):\n",
    "    plt.figure(figsize=(10, 7))\n",
    "    librosa.display.specshow(\n",
    "        y, sr=sr, hop_length=hop_size, x_axis='time', y_axis=y_axis)\n",
    "    plt.colorbar(format='%+2.0f dB')\n",
    "[plot_spec(X[i], sr=sr, hop_size=hop_size, y_axis='mel') for i in range(10)]\n"
   ]
  },
  {
   "cell_type": "code",
   "execution_count": null,
   "metadata": {},
   "outputs": [],
   "source": [
    "import numpy as np\n",
    "import matplotlib.pyplot as plt\n",
    "import tensorflow as tf\n",
    "from keras.models import Sequential\n",
    "from keras.layers import Dense\n",
    "from keras.layers import Flatten, Dropout\n",
    "from keras.layers import Conv2D, MaxPooling2D, Reshape\n",
    "from keras.callbacks import ModelCheckpoint, EarlyStopping\n",
    "from keras.optimizers import rmsprop_v2\n",
    "\n",
    "# import rms prop from keras\n",
    "\n",
    "\n",
    "\n",
    "es = EarlyStopping(monitor='val_loss', mode='min', verbose=1, patience=10)\n",
    "opt = rmsprop_v2.RMSprop(\n",
    "    learning_rate=0.001, rho=0.9, epsilon=None, decay=0.0)\n",
    "\n",
    "feature_shape = X_train[0].shape\n",
    "print(feature_shape)\n",
    "model = Sequential()\n",
    "model.add(Reshape(target_shape=(\n",
    "    128, 42, 1), input_shape=(128, 42)))\n",
    "model.add(Conv2D(16, (3, 3), activation='relu', strides=(2, 1), padding='same'))\n",
    "model.add(Conv2D(32, (3, 3), activation='relu', strides=(2, 1), padding='same'))\n",
    "model.add(Conv2D(64, (3, 3), activation='relu', strides=(2, 1), padding='same'))\n",
    "model.add(Conv2D(128, (3, 3), activation='relu',\n",
    "          strides=(1, 1), padding='same'))\n",
    "model.add(MaxPooling2D((2, 1)))\n",
    "model.add(Dropout(0.5))\n",
    "model.add(Flatten())\n",
    "model.add(Dense(128, activation='relu'))\n",
    "model.add(Dense(64, activation='relu'))\n",
    "model.add(Dense(5, activation='softmax'))\n",
    "model.summary()\n",
    "model.compile(loss='sparse_categorical_crossentropy',\n",
    "              optimizer='adam' , metrics=['accuracy'])\n"
   ]
  }
 ],
 "metadata": {
  "interpreter": {
   "hash": "8e9a847315198e1db6c3e64fe9ef1c8f4cc1666ddba368d2a78c3257c3b63773"
  },
  "kernelspec": {
   "display_name": "Python 3.9.2 64-bit",
   "language": "python",
   "name": "python3"
  },
  "language_info": {
   "codemirror_mode": {
    "name": "ipython",
    "version": 3
   },
   "file_extension": ".py",
   "mimetype": "text/x-python",
   "name": "python",
   "nbconvert_exporter": "python",
   "pygments_lexer": "ipython3",
   "version": "3.9.2"
  },
  "orig_nbformat": 4
 },
 "nbformat": 4,
 "nbformat_minor": 2
}

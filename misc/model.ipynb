{
 "cells": [
  {
   "cell_type": "code",
   "execution_count": null,
   "metadata": {},
   "outputs": [],
   "source": [
    "import numpy as np\n",
    "import pandas as pd\n",
    "import tensorflow as tf\n",
    "import matplotlib.pyplot as plt\n",
    "import keras \n",
    "import h5py\n",
    "import librosa.display\n",
    "f = h5py.File('dataset.hdf5', 'r')"
   ]
  },
  {
   "cell_type": "code",
   "execution_count": 30,
   "metadata": {},
   "outputs": [],
   "source": [
    "X, y = f['mfcc'][:1000], f['label'][:1000]\n",
    "sr, hop_size = f.attrs['sample_rate'], f.attrs['hop_size']\n",
    "g = f['gender']"
   ]
  },
  {
   "cell_type": "code",
   "execution_count": null,
   "metadata": {},
   "outputs": [],
   "source": [
    "def plot_spec(y, sr, hop_size, y_axis):\n",
    "    plt.figure(figsize=(10, 7))\n",
    "    librosa.display.specshow(\n",
    "        y, sr=sr, hop_length=hop_size, x_axis='time', y_axis=y_axis)\n",
    "    plt.colorbar(format='%+2.0f dB')\n",
    "[plot_spec(X[i], sr=sr, hop_size=hop_size, y_axis='mel') for i in range(10)]\n"
   ]
  },
  {
   "cell_type": "code",
   "execution_count": 33,
   "metadata": {},
   "outputs": [
    {
     "data": {
      "text/plain": [
       "array([[b'female'],\n",
       "       [b'female'],\n",
       "       [b'female'],\n",
       "       ...,\n",
       "       [b'female'],\n",
       "       [b'female'],\n",
       "       [b'female']], dtype='|S6')"
      ]
     },
     "execution_count": 33,
     "metadata": {},
     "output_type": "execute_result"
    }
   ],
   "source": [
    "g[...]"
   ]
  },
  {
   "cell_type": "code",
   "execution_count": null,
   "metadata": {},
   "outputs": [],
   "source": []
  }
 ],
 "metadata": {
  "interpreter": {
   "hash": "8e9a847315198e1db6c3e64fe9ef1c8f4cc1666ddba368d2a78c3257c3b63773"
  },
  "kernelspec": {
   "display_name": "Python 3.9.2 64-bit",
   "language": "python",
   "name": "python3"
  },
  "language_info": {
   "codemirror_mode": {
    "name": "ipython",
    "version": 3
   },
   "file_extension": ".py",
   "mimetype": "text/x-python",
   "name": "python",
   "nbconvert_exporter": "python",
   "pygments_lexer": "ipython3",
   "version": "3.9.2"
  },
  "orig_nbformat": 4
 },
 "nbformat": 4,
 "nbformat_minor": 2
}

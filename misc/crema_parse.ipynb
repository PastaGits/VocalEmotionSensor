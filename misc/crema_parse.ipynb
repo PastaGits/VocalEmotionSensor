{
 "cells": [
  {
   "cell_type": "code",
   "execution_count": 4,
   "metadata": {},
   "outputs": [],
   "source": [
    "import os\n",
    "import numpy as np\n",
    "import pandas as pd\n",
    "\n",
    "pwd = os.getcwd()\n",
    "\n",
    "# cwd is set to the github directory for me so /VocalEmotionSensor/\n",
    "# if urs is different change the parent directory to match\n",
    "parent_dir = '\\\\data\\\\crema-d'\n",
    "\n",
    "audio_files = os.listdir(pwd + parent_dir)\n",
    "\n",
    "actor_df = pd.read_csv(pwd + parent_dir + '\\\\VideoDemographics.csv')\n",
    "actord_id_dict=dict(zip(actor_df['ActorID'],actor_df['Sex']))\n"
   ]
  },
  {
   "cell_type": "code",
   "execution_count": null,
   "metadata": {},
   "outputs": [],
   "source": [
    "\n",
    "label_dict = {'ANG': 'a', 'DIS': 'd', 'FEA': 'f', 'HAP': 'h', 'NEU': 'n', 'SAD': 'sa' }\n",
    "\n",
    "data = []\n",
    "directory_loc = parent_dir + '\\\\'\n",
    "for file in audio_files:\n",
    "    # skip non wav\n",
    "    if not ('.wav' in file):\n",
    "        continue\n",
    "\n",
    "    identifier = file.split('.')[0].split('_')\n",
    "\n",
    "    gender = actord_id_dict[int(identifier[0])].lower()\n",
    "\n",
    "    emotion_label = label_dict[identifier[2]]\n",
    "\n",
    "\n",
    "    data.append([emotion_label, gender, directory_loc, file])\n",
    "data = np.array(data)\n",
    "np.save('crema.npy', data)"
   ]
  }
 ],
 "metadata": {
  "interpreter": {
   "hash": "39d7a255d4176126bb60d58490ff3164cc3b659c87e283a77bc5e59f8812299c"
  },
  "kernelspec": {
   "display_name": "Python 3.9.2 64-bit",
   "language": "python",
   "name": "python3"
  },
  "language_info": {
   "codemirror_mode": {
    "name": "ipython",
    "version": 3
   },
   "file_extension": ".py",
   "mimetype": "text/x-python",
   "name": "python",
   "nbconvert_exporter": "python",
   "pygments_lexer": "ipython3",
   "version": "3.9.2"
  },
  "orig_nbformat": 4
 },
 "nbformat": 4,
 "nbformat_minor": 2
}

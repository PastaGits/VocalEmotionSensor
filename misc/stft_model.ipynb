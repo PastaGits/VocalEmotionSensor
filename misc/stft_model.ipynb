{
 "cells": [
  {
   "cell_type": "code",
   "execution_count": 1,
   "id": "60d3f7f5-7af4-4e13-8f85-a524eda1256f",
   "metadata": {},
   "outputs": [
    {
     "name": "stdout",
     "output_type": "stream",
     "text": [
      "(44344, 1)\n",
      "done!\n",
      "done!\n",
      "done!\n",
      "done!\n"
     ]
    },
    {
     "data": {
      "text/plain": [
       "((1482, 2049, 50), (1482, 1))"
      ]
     },
     "execution_count": 1,
     "metadata": {},
     "output_type": "execute_result"
    }
   ],
   "source": [
    "import h5py\n",
    "import librosa\n",
    "import numpy as np\n",
    "\n",
    "file = h5py.File('E:/dataset_6ms.h5', 'r')\n",
    "\n",
    "print(file['label'].shape)\n",
    "# labels = file['label'][:36406].squeeze()\n",
    "\n",
    "gender_labels = file['gender'][:3000].squeeze().astype(str)\n",
    "print('done!')\n",
    "male_indexes =  np.where(gender_labels == 'male')\n",
    "femmale_indexes =  np.where(gender_labels == 'female')\n",
    "\n",
    "print('done!')\n",
    "y = file['label'][male_indexes]\n",
    "print('done!')\n",
    "X = file['stft'][male_indexes]\n",
    "print('done!')\n",
    "\n",
    "X.shape, y.shape"
   ]
  },
  {
   "cell_type": "code",
   "execution_count": 2,
   "id": "6b4caedd-91d9-42f3-9e00-97f1442e9276",
   "metadata": {},
   "outputs": [
    {
     "data": {
      "text/plain": [
       "((992, 2049, 50), (490, 2049, 50), (992, 1), (490, 1))"
      ]
     },
     "execution_count": 2,
     "metadata": {},
     "output_type": "execute_result"
    }
   ],
   "source": [
    "from sklearn.model_selection import train_test_split\n",
    "\n",
    "X_train, X_test, y_train, y_test = train_test_split(X, y, test_size=0.33, random_state=32)\n",
    "X_train.shape, X_test.shape, y_train.shape, y_test.shape"
   ]
  },
  {
   "cell_type": "code",
   "execution_count": 8,
   "id": "047ded05-455b-4685-99c5-383ba3e82b79",
   "metadata": {},
   "outputs": [
    {
     "name": "stdout",
     "output_type": "stream",
     "text": [
      "(2049, 50)\n",
      "Model: \"sequential_3\"\n",
      "_________________________________________________________________\n",
      " Layer (type)                Output Shape              Param #   \n",
      "=================================================================\n",
      " reshape_3 (Reshape)         (None, 2049, 50, 1)       0         \n",
      "                                                                 \n",
      " conv2d_12 (Conv2D)          (None, 1023, 46, 16)      416       \n",
      "                                                                 \n",
      " batch_normalization_12 (Bat  (None, 1023, 46, 16)     64        \n",
      " chNormalization)                                                \n",
      "                                                                 \n",
      " leaky_re_lu_15 (LeakyReLU)  (None, 1023, 46, 16)      0         \n",
      "                                                                 \n",
      " average_pooling2d_1 (Averag  (None, 512, 23, 16)      0         \n",
      " ePooling2D)                                                     \n",
      "                                                                 \n",
      " dropout_18 (Dropout)        (None, 512, 23, 16)       0         \n",
      "                                                                 \n",
      " conv2d_13 (Conv2D)          (None, 255, 21, 32)       4640      \n",
      "                                                                 \n",
      " leaky_re_lu_16 (LeakyReLU)  (None, 255, 21, 32)       0         \n",
      "                                                                 \n",
      " batch_normalization_13 (Bat  (None, 255, 21, 32)      128       \n",
      " chNormalization)                                                \n",
      "                                                                 \n",
      " max_pooling2d_8 (MaxPooling  (None, 85, 21, 32)       0         \n",
      " 2D)                                                             \n",
      "                                                                 \n",
      " dropout_19 (Dropout)        (None, 85, 21, 32)        0         \n",
      "                                                                 \n",
      " conv2d_14 (Conv2D)          (None, 42, 21, 64)        6208      \n",
      "                                                                 \n",
      " leaky_re_lu_17 (LeakyReLU)  (None, 42, 21, 64)        0         \n",
      "                                                                 \n",
      " batch_normalization_14 (Bat  (None, 42, 21, 64)       256       \n",
      " chNormalization)                                                \n",
      "                                                                 \n",
      " dropout_20 (Dropout)        (None, 42, 21, 64)        0         \n",
      "                                                                 \n",
      " conv2d_15 (Conv2D)          (None, 21, 21, 128)       73856     \n",
      "                                                                 \n",
      " leaky_re_lu_18 (LeakyReLU)  (None, 21, 21, 128)       0         \n",
      "                                                                 \n",
      " max_pooling2d_9 (MaxPooling  (None, 10, 21, 128)      0         \n",
      " 2D)                                                             \n",
      "                                                                 \n",
      " batch_normalization_15 (Bat  (None, 10, 21, 128)      512       \n",
      " chNormalization)                                                \n",
      "                                                                 \n",
      " dropout_21 (Dropout)        (None, 10, 21, 128)       0         \n",
      "                                                                 \n",
      " flatten_3 (Flatten)         (None, 26880)             0         \n",
      "                                                                 \n",
      " dropout_22 (Dropout)        (None, 26880)             0         \n",
      "                                                                 \n",
      " dense_15 (Dense)            (None, 512)               13763072  \n",
      "                                                                 \n",
      " leaky_re_lu_19 (LeakyReLU)  (None, 512)               0         \n",
      "                                                                 \n",
      " dense_16 (Dense)            (None, 128)               65664     \n",
      "                                                                 \n",
      " dropout_23 (Dropout)        (None, 128)               0         \n",
      "                                                                 \n",
      " dense_17 (Dense)            (None, 64)                8256      \n",
      "                                                                 \n",
      " dense_18 (Dense)            (None, 6)                 390       \n",
      "                                                                 \n",
      " dense_19 (Dense)            (None, 6)                 42        \n",
      "                                                                 \n",
      "=================================================================\n",
      "Total params: 13,923,504\n",
      "Trainable params: 13,923,024\n",
      "Non-trainable params: 480\n",
      "_________________________________________________________________\n"
     ]
    }
   ],
   "source": [
    "import numpy as np\n",
    "import matplotlib.pyplot as plt\n",
    "import tensorflow as tf\n",
    "from keras.models import Sequential\n",
    "from keras.layers import Dense, BatchNormalization, LeakyReLU, GlobalAveragePooling2D, GlobalMaxPooling2D\n",
    "from keras.layers import Flatten, Dropout\n",
    "from keras.layers import Conv2D, MaxPooling2D, Reshape, AveragePooling2D\n",
    "from keras.callbacks import ModelCheckpoint, EarlyStopping\n",
    "from keras.optimizers import adam_v2\n",
    "import keras\n",
    "\n",
    "# import rms prop from keras\n",
    "\n",
    "\n",
    "es = EarlyStopping(monitor='val_loss', mode='min', verbose=1, patience=15)\n",
    "opt = adam_v2.Adam(learning_rate=0.0001)\n",
    "# model.compile(loss='categorical_crossentropy', optimizer=opt)\n",
    "\n",
    "feature_shape = X_train[0].shape\n",
    "print(feature_shape)\n",
    "model = Sequential()\n",
    "model.add(Reshape(target_shape=(\n",
    "    feature_shape[0], feature_shape[1], 1), input_shape=(feature_shape[0], feature_shape[1])))\n",
    "# 1st conv layer\n",
    "model.add(Conv2D(16, (5, 5), strides=(2, 1)))\n",
    "model.add(BatchNormalization())\n",
    "model.add(LeakyReLU())\n",
    "model.add(AveragePooling2D(pool_size=(2, 2), padding='same'))\n",
    "model.add(Dropout(0.2))\n",
    "\n",
    "\n",
    "# 2nd conv layer\n",
    "model.add(Conv2D(32, (3, 3), strides=(2, 1)))\n",
    "model.add(LeakyReLU())\n",
    "model.add(BatchNormalization())\n",
    "model.add(MaxPooling2D(pool_size=(3, 1), padding='same'))\n",
    "model.add(Dropout(0.2))\n",
    "\n",
    "# 3rd conv layer\n",
    "model.add(Conv2D(64, (3, 1), strides=(2, 1)))\n",
    "model.add(LeakyReLU())\n",
    "model.add(BatchNormalization())\n",
    "model.add(Dropout(0.2))\n",
    "\n",
    "# 4th conv layer\n",
    "model.add(Conv2D(128, (3, 3), strides=(2, 1), padding='same'))\n",
    "model.add(LeakyReLU())\n",
    "model.add(MaxPooling2D(pool_size=(2, 1)))\n",
    "model.add(BatchNormalization())\n",
    "model.add(Dropout(0.2))\n",
    "\n",
    "# flatten the output and add a dense layer\n",
    "# model.add(GlobalMaxPooling2D())\n",
    "model.add(Flatten())\n",
    "model.add(Dropout(0.2))\n",
    "# model.add(Dense(1024, activation='relu'))\n",
    "model.add(Dense(512))\n",
    "model.add(LeakyReLU())\n",
    "model.add(Dense(128, activation='relu'))\n",
    "model.add(Dropout(0.2))\n",
    "model.add(Dense(64, activation='relu'))\n",
    "# global pooling\n",
    "# outout layer\n",
    "model.add(Dense(6, activation='sigmoid'))\n",
    "model.add(Dense(6, activation='softmax'))\n",
    "model.summary()\n",
    "model.compile(loss='sparse_categorical_crossentropy',\n",
    "              optimizer=opt, metrics=['accuracy'])\n"
   ]
  },
  {
   "cell_type": "code",
   "execution_count": 9,
   "id": "4e4ae786-ee7a-40ec-93df-8804c98f8840",
   "metadata": {},
   "outputs": [
    {
     "name": "stdout",
     "output_type": "stream",
     "text": [
      "Epoch 1/200\n",
      "5/5 [==============================] - 4s 580ms/step - loss: 1.8154 - accuracy: 0.1784 - val_loss: 1.8134 - val_accuracy: 0.1980\n",
      "Epoch 2/200\n",
      "5/5 [==============================] - 2s 351ms/step - loss: 1.7485 - accuracy: 0.2379 - val_loss: 1.8082 - val_accuracy: 0.1980\n",
      "Epoch 3/200\n",
      "5/5 [==============================] - 2s 350ms/step - loss: 1.7043 - accuracy: 0.2762 - val_loss: 1.7985 - val_accuracy: 0.1959\n",
      "Epoch 4/200\n",
      "5/5 [==============================] - 2s 352ms/step - loss: 1.6704 - accuracy: 0.3155 - val_loss: 1.8132 - val_accuracy: 0.1980\n",
      "Epoch 5/200\n",
      "5/5 [==============================] - 2s 348ms/step - loss: 1.6471 - accuracy: 0.3044 - val_loss: 1.8084 - val_accuracy: 0.1898\n",
      "Epoch 6/200\n",
      "5/5 [==============================] - 2s 348ms/step - loss: 1.6224 - accuracy: 0.3276 - val_loss: 1.7935 - val_accuracy: 0.2184\n",
      "Epoch 7/200\n",
      "5/5 [==============================] - 2s 358ms/step - loss: 1.5963 - accuracy: 0.3508 - val_loss: 1.8025 - val_accuracy: 0.1898\n",
      "Epoch 8/200\n",
      "5/5 [==============================] - 2s 349ms/step - loss: 1.5743 - accuracy: 0.3750 - val_loss: 1.8542 - val_accuracy: 0.1898\n",
      "Epoch 9/200\n",
      "5/5 [==============================] - 2s 350ms/step - loss: 1.5477 - accuracy: 0.4032 - val_loss: 1.8672 - val_accuracy: 0.1898\n",
      "Epoch 10/200\n",
      "5/5 [==============================] - 2s 352ms/step - loss: 1.5414 - accuracy: 0.4133 - val_loss: 1.8507 - val_accuracy: 0.1898\n",
      "Epoch 11/200\n",
      "5/5 [==============================] - 2s 350ms/step - loss: 1.5215 - accuracy: 0.4062 - val_loss: 1.8558 - val_accuracy: 0.1878\n",
      "Epoch 12/200\n",
      "5/5 [==============================] - 2s 353ms/step - loss: 1.5155 - accuracy: 0.4274 - val_loss: 1.8529 - val_accuracy: 0.1939\n",
      "Epoch 13/200\n",
      "5/5 [==============================] - 2s 353ms/step - loss: 1.4957 - accuracy: 0.4476 - val_loss: 1.8506 - val_accuracy: 0.1939\n",
      "Epoch 14/200\n",
      "5/5 [==============================] - 2s 353ms/step - loss: 1.4733 - accuracy: 0.4486 - val_loss: 1.8631 - val_accuracy: 0.1959\n",
      "Epoch 15/200\n",
      "5/5 [==============================] - 2s 357ms/step - loss: 1.4584 - accuracy: 0.4738 - val_loss: 1.8623 - val_accuracy: 0.1939\n",
      "Epoch 16/200\n",
      "5/5 [==============================] - 2s 351ms/step - loss: 1.4394 - accuracy: 0.4980 - val_loss: 1.8544 - val_accuracy: 0.1918\n",
      "Epoch 17/200\n",
      "5/5 [==============================] - 2s 349ms/step - loss: 1.4248 - accuracy: 0.4889 - val_loss: 1.8760 - val_accuracy: 0.1939\n",
      "Epoch 18/200\n",
      "5/5 [==============================] - 2s 349ms/step - loss: 1.4130 - accuracy: 0.4980 - val_loss: 1.8835 - val_accuracy: 0.1939\n",
      "Epoch 19/200\n",
      "5/5 [==============================] - 2s 354ms/step - loss: 1.3986 - accuracy: 0.5111 - val_loss: 1.8738 - val_accuracy: 0.1959\n",
      "Epoch 20/200\n",
      "5/5 [==============================] - 2s 355ms/step - loss: 1.3964 - accuracy: 0.5151 - val_loss: 1.8806 - val_accuracy: 0.2000\n",
      "Epoch 21/200\n",
      "5/5 [==============================] - 2s 352ms/step - loss: 1.3782 - accuracy: 0.5262 - val_loss: 1.8823 - val_accuracy: 0.2041\n",
      "Epoch 21: early stopping\n"
     ]
    }
   ],
   "source": [
    "cnnhistory=model.fit(X_train, y_train, batch_size=200, epochs=200,validation_data=(X_test, y_test), callbacks=[es], verbose=1)\n"
   ]
  },
  {
   "cell_type": "code",
   "execution_count": null,
   "id": "6c37114e-2008-433a-8a49-3ab6e2e66f15",
   "metadata": {},
   "outputs": [],
   "source": [
    "plt.plot(cnnhistory.history['loss'])\n",
    "plt.plot(cnnhistory.history['val_loss'])\n",
    "plt.title('model loss')\n",
    "plt.ylabel('loss')\n",
    "plt.xlabel('epoch')\n",
    "plt.legend(['train', 'test'], loc='upper left')\n",
    "plt.show()"
   ]
  },
  {
   "cell_type": "code",
   "execution_count": null,
   "id": "171ad9b6-5843-44e6-ae33-c19b493722fe",
   "metadata": {},
   "outputs": [],
   "source": [
    "plt.plot(cnnhistory.history['accuracy'])\n",
    "plt.plot(cnnhistory.history['val_accuracy'])\n",
    "plt.title('model accuracy')\n",
    "plt.ylabel('acc')\n",
    "plt.xlabel('epoch')\n",
    "plt.legend(['train', 'test'], loc='upper left')\n",
    "plt.show()"
   ]
  },
  {
   "cell_type": "code",
   "execution_count": null,
   "id": "2acfbba3-42d1-434c-a1d9-814c38da5439",
   "metadata": {},
   "outputs": [],
   "source": [
    "cnnhistory.model.save('cnn_60.h5')"
   ]
  },
  {
   "cell_type": "code",
   "execution_count": null,
   "id": "353fd8ce",
   "metadata": {},
   "outputs": [],
   "source": []
  }
 ],
 "metadata": {
  "interpreter": {
   "hash": "8e9a847315198e1db6c3e64fe9ef1c8f4cc1666ddba368d2a78c3257c3b63773"
  },
  "kernelspec": {
   "display_name": "Python 3.9.2 64-bit",
   "language": "python",
   "name": "python3"
  },
  "language_info": {
   "codemirror_mode": {
    "name": "ipython",
    "version": 3
   },
   "file_extension": ".py",
   "mimetype": "text/x-python",
   "name": "python",
   "nbconvert_exporter": "python",
   "pygments_lexer": "ipython3",
   "version": "3.9.2"
  }
 },
 "nbformat": 4,
 "nbformat_minor": 5
}

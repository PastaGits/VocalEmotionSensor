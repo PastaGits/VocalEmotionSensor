{
 "cells": [
  {
   "cell_type": "code",
   "execution_count": null,
   "metadata": {},
   "outputs": [],
   "source": [
    "import numpy as np\n",
    "import pandas as pd\n",
    "import matplotlib.pyplot as plt\n",
    "import h5py\n",
    "file = h5py.File('E:/dataset_6ms.h5', 'r')\n",
    "\n",
    "print('loading data from disk...')\n",
    "gender_labels = file['gender'][...].squeeze().astype(str)\n",
    "total_samples = gender_labels.shape[0] \n",
    "\n",
    "# female_indexes =  np.where(gender_labels == 'female')\n",
    "indexes =  np.where(gender_labels == 'female')\n",
    "y = file['label'][indexes]\n",
    "X = file['mfcc'][indexes]\n",
    "print('done')"
   ]
  },
  {
   "cell_type": "code",
   "execution_count": null,
   "metadata": {},
   "outputs": [],
   "source": [
    "\n",
    "female_count = indexes.shape[0]\n",
    "male_count = total_samples - female_count\n",
    "\n",
    "# plot male vs female\n",
    "plt.figure(figsize=(6,4))\n"
   ]
  }
 ],
 "metadata": {
  "interpreter": {
   "hash": "8e9a847315198e1db6c3e64fe9ef1c8f4cc1666ddba368d2a78c3257c3b63773"
  },
  "kernelspec": {
   "display_name": "Python 3.9.2 64-bit",
   "language": "python",
   "name": "python3"
  },
  "language_info": {
   "codemirror_mode": {
    "name": "ipython",
    "version": 3
   },
   "file_extension": ".py",
   "mimetype": "text/x-python",
   "name": "python",
   "nbconvert_exporter": "python",
   "pygments_lexer": "ipython3",
   "version": "3.9.2"
  },
  "orig_nbformat": 4
 },
 "nbformat": 4,
 "nbformat_minor": 2
}
